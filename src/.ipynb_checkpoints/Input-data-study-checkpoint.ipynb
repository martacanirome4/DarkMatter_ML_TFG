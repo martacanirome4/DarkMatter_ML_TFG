{
 "cells": [
  {
   "cell_type": "markdown",
   "metadata": {},
   "source": [
    "# Características de Entrada (features) / Variables Independientes"
   ]
  },
  {
   "cell_type": "markdown",
   "metadata": {},
   "source": [
    "## E_peak, Beta, Beta_rel, Sigma_d"
   ]
  },
  {
   "cell_type": "code",
   "execution_count": 1,
   "metadata": {},
   "outputs": [],
   "source": [
    "%matplotlib inline"
   ]
  },
  {
   "cell_type": "code",
   "execution_count": 2,
   "metadata": {},
   "outputs": [],
   "source": [
    "import pandas as pd"
   ]
  },
  {
   "cell_type": "code",
   "execution_count": 3,
   "metadata": {},
   "outputs": [
    {
     "name": "stdout",
     "output_type": "stream",
     "text": [
      "Primeras filas del del DataFrame:\n",
      "                E_peak                     beta               sigma  \\\n",
      "0               E_peak                     beta               sigma   \n",
      "1  -0.4125023068520127      -1.3251388592621884  1.3569508561312753   \n",
      "2   0.7081403453880487  -0.00017375254558756316  0.6231665597600842   \n",
      "3  0.22474019006054397      -0.5812017094096464  1.0100411689718056   \n",
      "4  0.25731851309763853      -0.5619325495465062   0.615413424407249   \n",
      "\n",
      "               beta_Rel      astro_DM  \n",
      "0              beta_Rel  0,1=astro,DM  \n",
      "1  -0.12219292462561837           0.0  \n",
      "2   -1.6018862387823747           0.0  \n",
      "3   -0.3112491608456672           0.0  \n",
      "4  -0.03891311649527738           0.0  \n",
      "\n",
      " Tipos de datos detectados:\n",
      "E_peak      object\n",
      "beta        object\n",
      "sigma       object\n",
      "beta_Rel    object\n",
      "astro_DM    object\n",
      "dtype: object\n",
      "\n",
      " Valores únicos en astro_DM antes de convertir:\n",
      "['0,1=astro,DM' '0.0' '1.0']\n",
      "\n",
      " Valores NaN después de convertir a número: 1\n",
      "Valores únicos en la columna astro_DM después de la conversión:\n",
      "[0 1]\n"
     ]
    }
   ],
   "source": [
    "# Intentar leer los diferentes separadores\n",
    "columnas = ['E_peak', 'beta', 'sigma', 'beta_Rel', 'astro_DM']\n",
    "df = pd.read_csv('XY_bal_log_Rel.txt', sep=\"\\s+\", names=columnas, engine='python')\n",
    "\n",
    "# Revisar los primeros valores de astro_DM\n",
    "print(\"Primeras filas del del DataFrame:\")\n",
    "print(df.head())\n",
    "\n",
    "# Ver si hay problemas en la estructura de los datos\n",
    "print(\"\\n Tipos de datos detectados:\")\n",
    "print(df.dtypes)\n",
    "\n",
    "# Revisar si la columna astro_DM tiene valores no numéricos\n",
    "print(\"\\n Valores únicos en astro_DM antes de convertir:\")\n",
    "print(df['astro_DM'].unique())\n",
    "\n",
    "# Convertir 'astro_DM' a número (manejo de decimales 0.0 y 1.0)\n",
    "df['astro_DM'] = pd.to_numeric(df['astro_DM'], errors='coerce') # Convertir a NaN si no es numérico\n",
    "\n",
    "# Ver si hay valores NaN tras la conversión\n",
    "print(\"\\n Valores NaN después de convertir a número:\", df['astro_DM'].isna().sum())\n",
    "\n",
    "# Eliminar NaN si se generaron por problemas en la conversión\n",
    "df = df.dropna(subset=['astro_DM'])\n",
    "\n",
    "# Alternativamente, rellenar NaN con 0 o 1 (si tiene sentido, opción 2)\n",
    "# df['astro_DM'].fillna(0, inplace=True) # Reemplazar con el valor adecuado\n",
    "\n",
    "# Convertir a entero después de limpiar NaN\n",
    "df['astro_DM'] = df['astro_DM'].astype('int')\n",
    "\n",
    "# Revisar si los valores de astro_DM son solo 0 y 1\n",
    "print(\"Valores únicos en la columna astro_DM después de la conversión:\")\n",
    "print(df['astro_DM'].unique())\n"
   ]
  },
  {
   "cell_type": "code",
   "execution_count": 4,
   "metadata": {},
   "outputs": [
    {
     "data": {
      "text/html": [
       "<div>\n",
       "<style scoped>\n",
       "    .dataframe tbody tr th:only-of-type {\n",
       "        vertical-align: middle;\n",
       "    }\n",
       "\n",
       "    .dataframe tbody tr th {\n",
       "        vertical-align: top;\n",
       "    }\n",
       "\n",
       "    .dataframe thead th {\n",
       "        text-align: right;\n",
       "    }\n",
       "</style>\n",
       "<table border=\"1\" class=\"dataframe\">\n",
       "  <thead>\n",
       "    <tr style=\"text-align: right;\">\n",
       "      <th></th>\n",
       "      <th>E_peak</th>\n",
       "      <th>beta</th>\n",
       "      <th>sigma</th>\n",
       "      <th>beta_Rel</th>\n",
       "      <th>astro_DM</th>\n",
       "    </tr>\n",
       "  </thead>\n",
       "  <tbody>\n",
       "    <tr>\n",
       "      <th>3948</th>\n",
       "      <td>3.967828679330155</td>\n",
       "      <td>-0.3038184128314762</td>\n",
       "      <td>1.052693941924968</td>\n",
       "      <td>0.5176017121667803</td>\n",
       "      <td>1</td>\n",
       "    </tr>\n",
       "    <tr>\n",
       "      <th>4927</th>\n",
       "      <td>1.3995006613146106</td>\n",
       "      <td>-0.9755143323008331</td>\n",
       "      <td>1.1205739312058498</td>\n",
       "      <td>-0.3788669294564718</td>\n",
       "      <td>1</td>\n",
       "    </tr>\n",
       "    <tr>\n",
       "      <th>5171</th>\n",
       "      <td>2.736953953783146</td>\n",
       "      <td>-1.1737955765007473</td>\n",
       "      <td>0.8617135875714342</td>\n",
       "      <td>0.480649325193756</td>\n",
       "      <td>1</td>\n",
       "    </tr>\n",
       "    <tr>\n",
       "      <th>1265</th>\n",
       "      <td>-0.6875687444112749</td>\n",
       "      <td>-1.0942041196321315</td>\n",
       "      <td>1.1300570186657453</td>\n",
       "      <td>-0.11130783370869891</td>\n",
       "      <td>0</td>\n",
       "    </tr>\n",
       "    <tr>\n",
       "      <th>961</th>\n",
       "      <td>-1.3654723505709672</td>\n",
       "      <td>-0.9484616094846725</td>\n",
       "      <td>1.2133317807065926</td>\n",
       "      <td>-0.2690657663490412</td>\n",
       "      <td>0</td>\n",
       "    </tr>\n",
       "  </tbody>\n",
       "</table>\n",
       "</div>"
      ],
      "text/plain": [
       "                   E_peak                 beta               sigma  \\\n",
       "3948    3.967828679330155  -0.3038184128314762   1.052693941924968   \n",
       "4927   1.3995006613146106  -0.9755143323008331  1.1205739312058498   \n",
       "5171    2.736953953783146  -1.1737955765007473  0.8617135875714342   \n",
       "1265  -0.6875687444112749  -1.0942041196321315  1.1300570186657453   \n",
       "961   -1.3654723505709672  -0.9484616094846725  1.2133317807065926   \n",
       "\n",
       "                  beta_Rel  astro_DM  \n",
       "3948    0.5176017121667803         1  \n",
       "4927   -0.3788669294564718         1  \n",
       "5171     0.480649325193756         1  \n",
       "1265  -0.11130783370869891         0  \n",
       "961    -0.2690657663490412         0  "
      ]
     },
     "execution_count": 4,
     "metadata": {},
     "output_type": "execute_result"
    }
   ],
   "source": [
    "# Muestra aleatoria de 5 filas\n",
    "df.sample(5)"
   ]
  },
  {
   "cell_type": "code",
   "execution_count": 5,
   "metadata": {},
   "outputs": [
    {
     "name": "stdout",
     "output_type": "stream",
     "text": [
      "Estadísticas descriptivas:\n"
     ]
    },
    {
     "data": {
      "text/html": [
       "<div>\n",
       "<style scoped>\n",
       "    .dataframe tbody tr th:only-of-type {\n",
       "        vertical-align: middle;\n",
       "    }\n",
       "\n",
       "    .dataframe tbody tr th {\n",
       "        vertical-align: top;\n",
       "    }\n",
       "\n",
       "    .dataframe thead th {\n",
       "        text-align: right;\n",
       "    }\n",
       "</style>\n",
       "<table border=\"1\" class=\"dataframe\">\n",
       "  <thead>\n",
       "    <tr style=\"text-align: right;\">\n",
       "      <th></th>\n",
       "      <th>astro_DM</th>\n",
       "    </tr>\n",
       "  </thead>\n",
       "  <tbody>\n",
       "    <tr>\n",
       "      <th>count</th>\n",
       "      <td>5662.000000</td>\n",
       "    </tr>\n",
       "    <tr>\n",
       "      <th>mean</th>\n",
       "      <td>0.500000</td>\n",
       "    </tr>\n",
       "    <tr>\n",
       "      <th>std</th>\n",
       "      <td>0.500044</td>\n",
       "    </tr>\n",
       "    <tr>\n",
       "      <th>min</th>\n",
       "      <td>0.000000</td>\n",
       "    </tr>\n",
       "    <tr>\n",
       "      <th>25%</th>\n",
       "      <td>0.000000</td>\n",
       "    </tr>\n",
       "    <tr>\n",
       "      <th>50%</th>\n",
       "      <td>0.500000</td>\n",
       "    </tr>\n",
       "    <tr>\n",
       "      <th>75%</th>\n",
       "      <td>1.000000</td>\n",
       "    </tr>\n",
       "    <tr>\n",
       "      <th>max</th>\n",
       "      <td>1.000000</td>\n",
       "    </tr>\n",
       "  </tbody>\n",
       "</table>\n",
       "</div>"
      ],
      "text/plain": [
       "          astro_DM\n",
       "count  5662.000000\n",
       "mean      0.500000\n",
       "std       0.500044\n",
       "min       0.000000\n",
       "25%       0.000000\n",
       "50%       0.500000\n",
       "75%       1.000000\n",
       "max       1.000000"
      ]
     },
     "execution_count": 5,
     "metadata": {},
     "output_type": "execute_result"
    }
   ],
   "source": [
    "# Ver los valores mínimos, máximos, y estadísticas generales (media, desviación estandar, etc.)\n",
    "print(\"Estadísticas descriptivas:\")\n",
    "df.describe()"
   ]
  },
  {
   "cell_type": "code",
   "execution_count": 6,
   "metadata": {},
   "outputs": [
    {
     "name": "stdout",
     "output_type": "stream",
     "text": [
      "Matriz de correlación entre variables:\n"
     ]
    },
    {
     "data": {
      "text/html": [
       "<div>\n",
       "<style scoped>\n",
       "    .dataframe tbody tr th:only-of-type {\n",
       "        vertical-align: middle;\n",
       "    }\n",
       "\n",
       "    .dataframe tbody tr th {\n",
       "        vertical-align: top;\n",
       "    }\n",
       "\n",
       "    .dataframe thead th {\n",
       "        text-align: right;\n",
       "    }\n",
       "</style>\n",
       "<table border=\"1\" class=\"dataframe\">\n",
       "  <thead>\n",
       "    <tr style=\"text-align: right;\">\n",
       "      <th></th>\n",
       "      <th>E_peak</th>\n",
       "      <th>beta</th>\n",
       "      <th>sigma</th>\n",
       "      <th>beta_Rel</th>\n",
       "      <th>astro_DM</th>\n",
       "    </tr>\n",
       "  </thead>\n",
       "  <tbody>\n",
       "    <tr>\n",
       "      <th>E_peak</th>\n",
       "      <td>1.000000</td>\n",
       "      <td>0.108252</td>\n",
       "      <td>-0.116761</td>\n",
       "      <td>0.355409</td>\n",
       "      <td>0.662491</td>\n",
       "    </tr>\n",
       "    <tr>\n",
       "      <th>beta</th>\n",
       "      <td>0.108252</td>\n",
       "      <td>1.000000</td>\n",
       "      <td>-0.106935</td>\n",
       "      <td>-0.294714</td>\n",
       "      <td>0.280305</td>\n",
       "    </tr>\n",
       "    <tr>\n",
       "      <th>sigma</th>\n",
       "      <td>-0.116761</td>\n",
       "      <td>-0.106935</td>\n",
       "      <td>1.000000</td>\n",
       "      <td>-0.347368</td>\n",
       "      <td>-0.143709</td>\n",
       "    </tr>\n",
       "    <tr>\n",
       "      <th>beta_Rel</th>\n",
       "      <td>0.355409</td>\n",
       "      <td>-0.294714</td>\n",
       "      <td>-0.347368</td>\n",
       "      <td>1.000000</td>\n",
       "      <td>0.329702</td>\n",
       "    </tr>\n",
       "    <tr>\n",
       "      <th>astro_DM</th>\n",
       "      <td>0.662491</td>\n",
       "      <td>0.280305</td>\n",
       "      <td>-0.143709</td>\n",
       "      <td>0.329702</td>\n",
       "      <td>1.000000</td>\n",
       "    </tr>\n",
       "  </tbody>\n",
       "</table>\n",
       "</div>"
      ],
      "text/plain": [
       "            E_peak      beta     sigma  beta_Rel  astro_DM\n",
       "E_peak    1.000000  0.108252 -0.116761  0.355409  0.662491\n",
       "beta      0.108252  1.000000 -0.106935 -0.294714  0.280305\n",
       "sigma    -0.116761 -0.106935  1.000000 -0.347368 -0.143709\n",
       "beta_Rel  0.355409 -0.294714 -0.347368  1.000000  0.329702\n",
       "astro_DM  0.662491  0.280305 -0.143709  0.329702  1.000000"
      ]
     },
     "execution_count": 6,
     "metadata": {},
     "output_type": "execute_result"
    }
   ],
   "source": [
    "# Ver los valores de correlación entre variables\n",
    "print(\"Matriz de correlación entre variables:\")\n",
    "df.corr()"
   ]
  },
  {
   "cell_type": "code",
   "execution_count": 7,
   "metadata": {},
   "outputs": [
    {
     "name": "stdout",
     "output_type": "stream",
     "text": [
      "Valores únicos en la columna 'astro_DM':\n",
      "astro_DM\n",
      "0    2831\n",
      "1    2831\n",
      "Name: count, dtype: int64\n"
     ]
    }
   ],
   "source": [
    "# Revisar valores únicos en la columna de clases\n",
    "print(\"Valores únicos en la columna 'astro_DM':\")\n",
    "print(df['astro_DM'].value_counts())"
   ]
  },
  {
   "cell_type": "code",
   "execution_count": 65,
   "metadata": {},
   "outputs": [
    {
     "name": "stdout",
     "output_type": "stream",
     "text": [
      "Valores faltantes en el DataFrame:\n",
      "E_peak      0\n",
      "beta        0\n",
      "sigma       0\n",
      "beta_Rel    0\n",
      "astro_DM    0\n",
      "dtype: int64\n",
      "Filas con valores faltantes:\n",
      "Empty DataFrame\n",
      "Columns: [E_peak, beta, sigma, beta_Rel, astro_DM]\n",
      "Index: []\n"
     ]
    }
   ],
   "source": [
    "# Revisar valores incompletos en el DataFrame o filas con valores faltantes\n",
    "print(\"Valores faltantes en el DataFrame:\")\n",
    "print(df.isnull().sum())\n",
    "print(\"Filas con valores faltantes:\")\n",
    "print(df[df.isnull().any(axis=1)])"
   ]
  },
  {
   "cell_type": "markdown",
   "metadata": {},
   "source": [
    "# Gráficos"
   ]
  },
  {
   "cell_type": "markdown",
   "metadata": {},
   "source": [
    "## Gráfico 𝐸 peak vs β (beta-plot)\n",
    "Separa distintas clases de fuentes según sus características espectrales y muestra cómo se distribuyen las fuentes astrofísicas y de materia oscura en este espacio.\n"
   ]
  }
 ],
 "metadata": {
  "kernelspec": {
   "display_name": "Python 3 (ipykernel)",
   "language": "python",
   "name": "python3"
  },
  "language_info": {
   "codemirror_mode": {
    "name": "ipython",
    "version": 3
   },
   "file_extension": ".py",
   "mimetype": "text/x-python",
   "name": "python",
   "nbconvert_exporter": "python",
   "pygments_lexer": "ipython3",
   "version": "3.11.6"
  }
 },
 "nbformat": 4,
 "nbformat_minor": 4
}
