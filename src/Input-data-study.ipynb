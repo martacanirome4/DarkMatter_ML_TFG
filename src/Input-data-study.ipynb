{
 "cells": [
  {
   "cell_type": "markdown",
   "metadata": {},
   "source": [
    "# Características de Entrada (features) / Variables Independientes"
   ]
  },
  {
   "cell_type": "markdown",
   "metadata": {},
   "source": [
    "## E_peak, Beta, Beta_rel, Sigma_d"
   ]
  },
  {
   "cell_type": "code",
   "execution_count": 112,
   "metadata": {},
   "outputs": [],
   "source": [
    "%matplotlib inline"
   ]
  },
  {
   "cell_type": "code",
   "execution_count": 113,
   "metadata": {},
   "outputs": [],
   "source": [
    "import pandas as pd"
   ]
  },
  {
   "cell_type": "code",
   "execution_count": null,
   "metadata": {},
   "outputs": [],
   "source": [
    "# Definir nombres de las columnas\n",
    "columnas = ['E_peak', 'beta', 'sigma', 'beta_Rel', 'astro_DM']\n",
    "\n",
    "# Cargar los datos\n",
    "df = pd.read_csv('XY_bal_log_Rel.txt', sep=\"\\s+\", names=columnas, engine='python', skiprows=1)"
   ]
  },
  {
   "cell_type": "code",
   "execution_count": null,
   "metadata": {},
   "outputs": [
    {
     "name": "stdout",
     "output_type": "stream",
     "text": [
      "🔹 Primeras filas del DataFrame:\n",
      "                E_peak                     beta               sigma  \\\n",
      "0               E_peak                     beta               sigma   \n",
      "1  -0.4125023068520127      -1.3251388592621884  1.3569508561312753   \n",
      "2   0.7081403453880487  -0.00017375254558756316  0.6231665597600842   \n",
      "3  0.22474019006054397      -0.5812017094096464  1.0100411689718056   \n",
      "4  0.25731851309763853      -0.5619325495465062   0.615413424407249   \n",
      "\n",
      "               beta_Rel      astro_DM  \n",
      "0              beta_Rel  0,1=astro,DM  \n",
      "1  -0.12219292462561837           0.0  \n",
      "2   -1.6018862387823747           0.0  \n",
      "3   -0.3112491608456672           0.0  \n",
      "4  -0.03891311649527738           0.0  \n",
      "\n",
      "🔹 Tipos de datos detectados:\n",
      "E_peak      object\n",
      "beta        object\n",
      "sigma       object\n",
      "beta_Rel    object\n",
      "astro_DM    object\n",
      "dtype: object\n"
     ]
    }
   ],
   "source": [
    "# Ver los primeros valores para verificar la estructura\n",
    "print(\"🔹 Primeras filas del DataFrame:\")\n",
    "print(df.head())"
   ]
  },
  {
   "cell_type": "code",
   "execution_count": null,
   "metadata": {},
   "outputs": [],
   "source": [
    "# Convertir las columnas a tipo numérico, eliminando valores erróneos\n",
    "for col in ['E_peak', 'beta', 'sigma', 'beta_Rel', 'astro_DM']:\n",
    "    df[col] = pd.to_numeric(df[col], errors='coerce')\n",
    "\n",
    "# Eliminar valores NaN que puedan haberse generado\n",
    "df = df.dropna()\n",
    "\n",
    "# Verificar si `E_peak` y `beta` tienen valores negativos\n",
    "print(\"\\n🔹 Cantidad de valores negativos en `E_peak`:\", (df['E_peak'] < 0).sum())\n",
    "print(\"🔹 Cantidad de valores negativos en `beta`:\", (df['beta'] < 0).sum())"
   ]
  },
  {
   "cell_type": "code",
   "execution_count": null,
   "metadata": {},
   "outputs": [],
   "source": [
    "# Aplicar transformación si los datos están en `ln` en lugar de `log10`\n",
    "if (df['E_peak'] < 0).sum() > 0 or (df['beta'] < 0).sum() > 0:\n",
    "    print(\"\\n⚠️  Advertencia: Los valores de `E_peak` y `beta` incluyen negativos. Asumiendo que están en `ln`, aplicando `exp()` antes de `log10`.\")\n",
    "    df['E_peak'] = np.exp(df['E_peak'])  # Convertir de ln a escala normal\n",
    "    df['beta'] = np.exp(df['beta'])  # Convertir de ln a escala normal"
   ]
  },
  {
   "cell_type": "code",
   "execution_count": 117,
   "metadata": {},
   "outputs": [
    {
     "data": {
      "text/html": [
       "<div>\n",
       "<style scoped>\n",
       "    .dataframe tbody tr th:only-of-type {\n",
       "        vertical-align: middle;\n",
       "    }\n",
       "\n",
       "    .dataframe tbody tr th {\n",
       "        vertical-align: top;\n",
       "    }\n",
       "\n",
       "    .dataframe thead th {\n",
       "        text-align: right;\n",
       "    }\n",
       "</style>\n",
       "<table border=\"1\" class=\"dataframe\">\n",
       "  <thead>\n",
       "    <tr style=\"text-align: right;\">\n",
       "      <th></th>\n",
       "      <th>E_peak</th>\n",
       "      <th>beta</th>\n",
       "      <th>sigma</th>\n",
       "      <th>beta_Rel</th>\n",
       "      <th>astro_DM</th>\n",
       "    </tr>\n",
       "  </thead>\n",
       "  <tbody>\n",
       "    <tr>\n",
       "      <th>3513</th>\n",
       "      <td>1.4734869700645683</td>\n",
       "      <td>-0.1942952955661356</td>\n",
       "      <td>0.8421722293856158</td>\n",
       "      <td>-0.005881873440544588</td>\n",
       "      <td>1</td>\n",
       "    </tr>\n",
       "    <tr>\n",
       "      <th>2731</th>\n",
       "      <td>-0.10002637286417146</td>\n",
       "      <td>-0.13365357725039825</td>\n",
       "      <td>1.9990687434875933</td>\n",
       "      <td>-1.5588503848363888</td>\n",
       "      <td>0</td>\n",
       "    </tr>\n",
       "    <tr>\n",
       "      <th>564</th>\n",
       "      <td>1.3873364261933372</td>\n",
       "      <td>-0.9986990669795819</td>\n",
       "      <td>1.2045540601352434</td>\n",
       "      <td>-0.24848450183214668</td>\n",
       "      <td>0</td>\n",
       "    </tr>\n",
       "    <tr>\n",
       "      <th>1904</th>\n",
       "      <td>-0.7833855144987226</td>\n",
       "      <td>-0.5723516288130673</td>\n",
       "      <td>1.0856722470326412</td>\n",
       "      <td>-0.43157471670165737</td>\n",
       "      <td>0</td>\n",
       "    </tr>\n",
       "    <tr>\n",
       "      <th>4038</th>\n",
       "      <td>0.43743344379797117</td>\n",
       "      <td>-0.12482294018529605</td>\n",
       "      <td>0.7158362751649938</td>\n",
       "      <td>-0.17317758492506716</td>\n",
       "      <td>1</td>\n",
       "    </tr>\n",
       "  </tbody>\n",
       "</table>\n",
       "</div>"
      ],
      "text/plain": [
       "                    E_peak                  beta               sigma  \\\n",
       "3513    1.4734869700645683   -0.1942952955661356  0.8421722293856158   \n",
       "2731  -0.10002637286417146  -0.13365357725039825  1.9990687434875933   \n",
       "564     1.3873364261933372   -0.9986990669795819  1.2045540601352434   \n",
       "1904   -0.7833855144987226   -0.5723516288130673  1.0856722470326412   \n",
       "4038   0.43743344379797117  -0.12482294018529605  0.7158362751649938   \n",
       "\n",
       "                   beta_Rel  astro_DM  \n",
       "3513  -0.005881873440544588         1  \n",
       "2731    -1.5588503848363888         0  \n",
       "564    -0.24848450183214668         0  \n",
       "1904   -0.43157471670165737         0  \n",
       "4038   -0.17317758492506716         1  "
      ]
     },
     "execution_count": 117,
     "metadata": {},
     "output_type": "execute_result"
    }
   ],
   "source": [
    "# Muestra aleatoria de 5 filas\n",
    "df.sample(5)"
   ]
  },
  {
   "cell_type": "code",
   "execution_count": 118,
   "metadata": {},
   "outputs": [
    {
     "name": "stdout",
     "output_type": "stream",
     "text": [
      "Estadísticas descriptivas:\n"
     ]
    },
    {
     "data": {
      "text/html": [
       "<div>\n",
       "<style scoped>\n",
       "    .dataframe tbody tr th:only-of-type {\n",
       "        vertical-align: middle;\n",
       "    }\n",
       "\n",
       "    .dataframe tbody tr th {\n",
       "        vertical-align: top;\n",
       "    }\n",
       "\n",
       "    .dataframe thead th {\n",
       "        text-align: right;\n",
       "    }\n",
       "</style>\n",
       "<table border=\"1\" class=\"dataframe\">\n",
       "  <thead>\n",
       "    <tr style=\"text-align: right;\">\n",
       "      <th></th>\n",
       "      <th>astro_DM</th>\n",
       "    </tr>\n",
       "  </thead>\n",
       "  <tbody>\n",
       "    <tr>\n",
       "      <th>count</th>\n",
       "      <td>5662.000000</td>\n",
       "    </tr>\n",
       "    <tr>\n",
       "      <th>mean</th>\n",
       "      <td>0.500000</td>\n",
       "    </tr>\n",
       "    <tr>\n",
       "      <th>std</th>\n",
       "      <td>0.500044</td>\n",
       "    </tr>\n",
       "    <tr>\n",
       "      <th>min</th>\n",
       "      <td>0.000000</td>\n",
       "    </tr>\n",
       "    <tr>\n",
       "      <th>25%</th>\n",
       "      <td>0.000000</td>\n",
       "    </tr>\n",
       "    <tr>\n",
       "      <th>50%</th>\n",
       "      <td>0.500000</td>\n",
       "    </tr>\n",
       "    <tr>\n",
       "      <th>75%</th>\n",
       "      <td>1.000000</td>\n",
       "    </tr>\n",
       "    <tr>\n",
       "      <th>max</th>\n",
       "      <td>1.000000</td>\n",
       "    </tr>\n",
       "  </tbody>\n",
       "</table>\n",
       "</div>"
      ],
      "text/plain": [
       "          astro_DM\n",
       "count  5662.000000\n",
       "mean      0.500000\n",
       "std       0.500044\n",
       "min       0.000000\n",
       "25%       0.000000\n",
       "50%       0.500000\n",
       "75%       1.000000\n",
       "max       1.000000"
      ]
     },
     "execution_count": 118,
     "metadata": {},
     "output_type": "execute_result"
    }
   ],
   "source": [
    "# Ver estadísticas generales (valores mínimos, máximos, media, desviación estandar, etc.)\n",
    "print(\"Estadísticas descriptivas:\")\n",
    "df.describe()"
   ]
  },
  {
   "cell_type": "code",
   "execution_count": 119,
   "metadata": {},
   "outputs": [
    {
     "name": "stdout",
     "output_type": "stream",
     "text": [
      "Matriz de correlación entre variables:\n"
     ]
    },
    {
     "data": {
      "text/html": [
       "<div>\n",
       "<style scoped>\n",
       "    .dataframe tbody tr th:only-of-type {\n",
       "        vertical-align: middle;\n",
       "    }\n",
       "\n",
       "    .dataframe tbody tr th {\n",
       "        vertical-align: top;\n",
       "    }\n",
       "\n",
       "    .dataframe thead th {\n",
       "        text-align: right;\n",
       "    }\n",
       "</style>\n",
       "<table border=\"1\" class=\"dataframe\">\n",
       "  <thead>\n",
       "    <tr style=\"text-align: right;\">\n",
       "      <th></th>\n",
       "      <th>E_peak</th>\n",
       "      <th>beta</th>\n",
       "      <th>sigma</th>\n",
       "      <th>beta_Rel</th>\n",
       "      <th>astro_DM</th>\n",
       "    </tr>\n",
       "  </thead>\n",
       "  <tbody>\n",
       "    <tr>\n",
       "      <th>E_peak</th>\n",
       "      <td>1.000000</td>\n",
       "      <td>0.108252</td>\n",
       "      <td>-0.116761</td>\n",
       "      <td>0.355409</td>\n",
       "      <td>0.662491</td>\n",
       "    </tr>\n",
       "    <tr>\n",
       "      <th>beta</th>\n",
       "      <td>0.108252</td>\n",
       "      <td>1.000000</td>\n",
       "      <td>-0.106935</td>\n",
       "      <td>-0.294714</td>\n",
       "      <td>0.280305</td>\n",
       "    </tr>\n",
       "    <tr>\n",
       "      <th>sigma</th>\n",
       "      <td>-0.116761</td>\n",
       "      <td>-0.106935</td>\n",
       "      <td>1.000000</td>\n",
       "      <td>-0.347368</td>\n",
       "      <td>-0.143709</td>\n",
       "    </tr>\n",
       "    <tr>\n",
       "      <th>beta_Rel</th>\n",
       "      <td>0.355409</td>\n",
       "      <td>-0.294714</td>\n",
       "      <td>-0.347368</td>\n",
       "      <td>1.000000</td>\n",
       "      <td>0.329702</td>\n",
       "    </tr>\n",
       "    <tr>\n",
       "      <th>astro_DM</th>\n",
       "      <td>0.662491</td>\n",
       "      <td>0.280305</td>\n",
       "      <td>-0.143709</td>\n",
       "      <td>0.329702</td>\n",
       "      <td>1.000000</td>\n",
       "    </tr>\n",
       "  </tbody>\n",
       "</table>\n",
       "</div>"
      ],
      "text/plain": [
       "            E_peak      beta     sigma  beta_Rel  astro_DM\n",
       "E_peak    1.000000  0.108252 -0.116761  0.355409  0.662491\n",
       "beta      0.108252  1.000000 -0.106935 -0.294714  0.280305\n",
       "sigma    -0.116761 -0.106935  1.000000 -0.347368 -0.143709\n",
       "beta_Rel  0.355409 -0.294714 -0.347368  1.000000  0.329702\n",
       "astro_DM  0.662491  0.280305 -0.143709  0.329702  1.000000"
      ]
     },
     "execution_count": 119,
     "metadata": {},
     "output_type": "execute_result"
    }
   ],
   "source": [
    "# Ver los valores de correlación entre variables\n",
    "print(\"Matriz de correlación entre variables:\")\n",
    "df.corr()"
   ]
  },
  {
   "cell_type": "code",
   "execution_count": null,
   "metadata": {},
   "outputs": [
    {
     "name": "stdout",
     "output_type": "stream",
     "text": [
      "\n",
      "🔹 Se eliminaron 5662 filas debido a valores negativos o cero en `E_peak` o `beta`.\n"
     ]
    }
   ],
   "source": [
    "# Aplicar logaritmo\n",
    "df = df[(df['E_peak'] > 0) & (df['beta'] > 0)]  # Filtrar valores negativos antes de `log10`\n",
    "df['log_E_peak'] = np.log10(df['E_peak'])\n",
    "df['log_beta'] = np.log10(df['beta'])"
   ]
  },
  {
   "cell_type": "markdown",
   "metadata": {},
   "source": [
    "# Gráficos"
   ]
  },
  {
   "cell_type": "markdown",
   "metadata": {},
   "source": [
    "## Gráfico 𝐸 peak vs β (beta-plot)\n",
    "Separa distintas clases de fuentes según sus características espectrales y muestra cómo se distribuyen las fuentes astrofísicas y de materia oscura en este espacio.\n"
   ]
  }
 ],
 "metadata": {
  "kernelspec": {
   "display_name": "Python 3 (ipykernel)",
   "language": "python",
   "name": "python3"
  },
  "language_info": {
   "codemirror_mode": {
    "name": "ipython",
    "version": 3
   },
   "file_extension": ".py",
   "mimetype": "text/x-python",
   "name": "python",
   "nbconvert_exporter": "python",
   "pygments_lexer": "ipython3",
   "version": "3.11.6"
  }
 },
 "nbformat": 4,
 "nbformat_minor": 4
}
