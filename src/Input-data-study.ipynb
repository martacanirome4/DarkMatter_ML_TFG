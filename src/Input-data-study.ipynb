{
 "cells": [
  {
   "cell_type": "markdown",
   "metadata": {},
   "source": [
    "# Características de Entrada (features) / Variables Independientes"
   ]
  },
  {
   "cell_type": "markdown",
   "metadata": {},
   "source": [
    "## E_peak, Beta, Beta_rel, Sigma_d"
   ]
  },
  {
   "cell_type": "code",
   "execution_count": 122,
   "metadata": {},
   "outputs": [],
   "source": [
    "%matplotlib inline"
   ]
  },
  {
   "cell_type": "code",
   "execution_count": 123,
   "metadata": {},
   "outputs": [],
   "source": [
    "import pandas as pd"
   ]
  },
  {
   "cell_type": "code",
   "execution_count": 124,
   "metadata": {},
   "outputs": [],
   "source": [
    "# Definir nombres de las columnas\n",
    "columnas = ['E_peak', 'beta', 'sigma', 'beta_Rel', 'astro_DM']\n",
    "\n",
    "# Cargar los datos\n",
    "df = pd.read_csv('XY_bal_log_Rel.txt', sep=\"\\s+\", names=columnas, engine='python', skiprows=1)"
   ]
  },
  {
   "cell_type": "code",
   "execution_count": 125,
   "metadata": {},
   "outputs": [
    {
     "name": "stdout",
     "output_type": "stream",
     "text": [
      "🔹 Primeras filas del DataFrame:\n",
      "     E_peak      beta     sigma  beta_Rel  astro_DM\n",
      "0 -0.412502 -1.325139  1.356951 -0.122193       0.0\n",
      "1  0.708140 -0.000174  0.623167 -1.601886       0.0\n",
      "2  0.224740 -0.581202  1.010041 -0.311249       0.0\n",
      "3  0.257319 -0.561933  0.615413 -0.038913       0.0\n",
      "4  0.326110 -1.100179  1.624932 -0.528753       0.0\n"
     ]
    }
   ],
   "source": [
    "# Ver los primeros valores para verificar la estructura\n",
    "print(\"🔹 Primeras filas del DataFrame:\")\n",
    "print(df.head())"
   ]
  },
  {
   "cell_type": "code",
   "execution_count": 126,
   "metadata": {},
   "outputs": [
    {
     "name": "stdout",
     "output_type": "stream",
     "text": [
      "\n",
      "🔹 Cantidad de valores negativos en `E_peak`: 1556\n",
      "🔹 Cantidad de valores negativos en `beta`: 5654\n"
     ]
    }
   ],
   "source": [
    "# Convertir las columnas a tipo numérico, eliminando valores erróneos\n",
    "for col in ['E_peak', 'beta', 'sigma', 'beta_Rel', 'astro_DM']:\n",
    "    df[col] = pd.to_numeric(df[col], errors='coerce')\n",
    "\n",
    "# Eliminar valores NaN que puedan haberse generado\n",
    "df = df.dropna()\n",
    "\n",
    "# Verificar si `E_peak` y `beta` tienen valores negativos\n",
    "print(\"\\n🔹 Cantidad de valores negativos en `E_peak`:\", (df['E_peak'] < 0).sum())\n",
    "print(\"🔹 Cantidad de valores negativos en `beta`:\", (df['beta'] < 0).sum())"
   ]
  },
  {
   "cell_type": "code",
   "execution_count": 127,
   "metadata": {},
   "outputs": [
    {
     "name": "stdout",
     "output_type": "stream",
     "text": [
      "\n",
      "⚠️  Advertencia: Los valores de `E_peak` y `beta` incluyen negativos. Asumiendo que están en `ln`, aplicando `exp()` antes de `log10`.\n"
     ]
    }
   ],
   "source": [
    "# Aplicar transformación si los datos están en `ln` en lugar de `log10`\n",
    "if (df['E_peak'] < 0).sum() > 0 or (df['beta'] < 0).sum() > 0:\n",
    "    print(\"\\n⚠️  Advertencia: Los valores de `E_peak` y `beta` incluyen negativos. Asumiendo que están en `ln`, aplicando `exp()` antes de `log10`.\")\n",
    "    df['E_peak'] = np.exp(df['E_peak'])  # Convertir de ln a escala normal\n",
    "    df['beta'] = np.exp(df['beta'])  # Convertir de ln a escala normal"
   ]
  },
  {
   "cell_type": "code",
   "execution_count": 128,
   "metadata": {},
   "outputs": [
    {
     "data": {
      "text/html": [
       "<div>\n",
       "<style scoped>\n",
       "    .dataframe tbody tr th:only-of-type {\n",
       "        vertical-align: middle;\n",
       "    }\n",
       "\n",
       "    .dataframe tbody tr th {\n",
       "        vertical-align: top;\n",
       "    }\n",
       "\n",
       "    .dataframe thead th {\n",
       "        text-align: right;\n",
       "    }\n",
       "</style>\n",
       "<table border=\"1\" class=\"dataframe\">\n",
       "  <thead>\n",
       "    <tr style=\"text-align: right;\">\n",
       "      <th></th>\n",
       "      <th>E_peak</th>\n",
       "      <th>beta</th>\n",
       "      <th>sigma</th>\n",
       "      <th>beta_Rel</th>\n",
       "      <th>astro_DM</th>\n",
       "    </tr>\n",
       "  </thead>\n",
       "  <tbody>\n",
       "    <tr>\n",
       "      <th>5039</th>\n",
       "      <td>6.230750</td>\n",
       "      <td>0.422044</td>\n",
       "      <td>0.677698</td>\n",
       "      <td>0.336133</td>\n",
       "      <td>1.0</td>\n",
       "    </tr>\n",
       "    <tr>\n",
       "      <th>1460</th>\n",
       "      <td>0.200839</td>\n",
       "      <td>0.329698</td>\n",
       "      <td>0.709567</td>\n",
       "      <td>0.308785</td>\n",
       "      <td>0.0</td>\n",
       "    </tr>\n",
       "    <tr>\n",
       "      <th>5345</th>\n",
       "      <td>7.446527</td>\n",
       "      <td>0.599118</td>\n",
       "      <td>0.956265</td>\n",
       "      <td>0.454503</td>\n",
       "      <td>1.0</td>\n",
       "    </tr>\n",
       "    <tr>\n",
       "      <th>1303</th>\n",
       "      <td>0.970832</td>\n",
       "      <td>0.576471</td>\n",
       "      <td>1.172276</td>\n",
       "      <td>-0.514167</td>\n",
       "      <td>0.0</td>\n",
       "    </tr>\n",
       "    <tr>\n",
       "      <th>1845</th>\n",
       "      <td>1.303624</td>\n",
       "      <td>0.751447</td>\n",
       "      <td>1.004966</td>\n",
       "      <td>-0.453459</td>\n",
       "      <td>0.0</td>\n",
       "    </tr>\n",
       "  </tbody>\n",
       "</table>\n",
       "</div>"
      ],
      "text/plain": [
       "        E_peak      beta     sigma  beta_Rel  astro_DM\n",
       "5039  6.230750  0.422044  0.677698  0.336133       1.0\n",
       "1460  0.200839  0.329698  0.709567  0.308785       0.0\n",
       "5345  7.446527  0.599118  0.956265  0.454503       1.0\n",
       "1303  0.970832  0.576471  1.172276 -0.514167       0.0\n",
       "1845  1.303624  0.751447  1.004966 -0.453459       0.0"
      ]
     },
     "execution_count": 128,
     "metadata": {},
     "output_type": "execute_result"
    }
   ],
   "source": [
    "# Muestra aleatoria de 5 filas\n",
    "df.sample(5)"
   ]
  },
  {
   "cell_type": "code",
   "execution_count": 129,
   "metadata": {},
   "outputs": [
    {
     "name": "stdout",
     "output_type": "stream",
     "text": [
      "Estadísticas descriptivas:\n"
     ]
    },
    {
     "data": {
      "text/html": [
       "<div>\n",
       "<style scoped>\n",
       "    .dataframe tbody tr th:only-of-type {\n",
       "        vertical-align: middle;\n",
       "    }\n",
       "\n",
       "    .dataframe tbody tr th {\n",
       "        vertical-align: top;\n",
       "    }\n",
       "\n",
       "    .dataframe thead th {\n",
       "        text-align: right;\n",
       "    }\n",
       "</style>\n",
       "<table border=\"1\" class=\"dataframe\">\n",
       "  <thead>\n",
       "    <tr style=\"text-align: right;\">\n",
       "      <th></th>\n",
       "      <th>E_peak</th>\n",
       "      <th>beta</th>\n",
       "      <th>sigma</th>\n",
       "      <th>beta_Rel</th>\n",
       "      <th>astro_DM</th>\n",
       "    </tr>\n",
       "  </thead>\n",
       "  <tbody>\n",
       "    <tr>\n",
       "      <th>count</th>\n",
       "      <td>5662.000000</td>\n",
       "      <td>5662.000000</td>\n",
       "      <td>5662.000000</td>\n",
       "      <td>5662.000000</td>\n",
       "      <td>5662.000000</td>\n",
       "    </tr>\n",
       "    <tr>\n",
       "      <th>mean</th>\n",
       "      <td>8.815194</td>\n",
       "      <td>0.477735</td>\n",
       "      <td>1.061131</td>\n",
       "      <td>-0.061574</td>\n",
       "      <td>0.500000</td>\n",
       "    </tr>\n",
       "    <tr>\n",
       "      <th>std</th>\n",
       "      <td>15.060537</td>\n",
       "      <td>0.185320</td>\n",
       "      <td>0.357026</td>\n",
       "      <td>0.478845</td>\n",
       "      <td>0.500044</td>\n",
       "    </tr>\n",
       "    <tr>\n",
       "      <th>min</th>\n",
       "      <td>0.002707</td>\n",
       "      <td>0.074121</td>\n",
       "      <td>0.608098</td>\n",
       "      <td>-3.198657</td>\n",
       "      <td>0.000000</td>\n",
       "    </tr>\n",
       "    <tr>\n",
       "      <th>25%</th>\n",
       "      <td>0.916897</td>\n",
       "      <td>0.334932</td>\n",
       "      <td>0.778414</td>\n",
       "      <td>-0.301915</td>\n",
       "      <td>0.000000</td>\n",
       "    </tr>\n",
       "    <tr>\n",
       "      <th>50%</th>\n",
       "      <td>2.419036</td>\n",
       "      <td>0.447057</td>\n",
       "      <td>0.973677</td>\n",
       "      <td>-0.045029</td>\n",
       "      <td>0.500000</td>\n",
       "    </tr>\n",
       "    <tr>\n",
       "      <th>75%</th>\n",
       "      <td>10.002327</td>\n",
       "      <td>0.604734</td>\n",
       "      <td>1.254676</td>\n",
       "      <td>0.287035</td>\n",
       "      <td>1.000000</td>\n",
       "    </tr>\n",
       "    <tr>\n",
       "      <th>max</th>\n",
       "      <td>371.854311</td>\n",
       "      <td>1.000000</td>\n",
       "      <td>2.899104</td>\n",
       "      <td>1.866966</td>\n",
       "      <td>1.000000</td>\n",
       "    </tr>\n",
       "  </tbody>\n",
       "</table>\n",
       "</div>"
      ],
      "text/plain": [
       "            E_peak         beta        sigma     beta_Rel     astro_DM\n",
       "count  5662.000000  5662.000000  5662.000000  5662.000000  5662.000000\n",
       "mean      8.815194     0.477735     1.061131    -0.061574     0.500000\n",
       "std      15.060537     0.185320     0.357026     0.478845     0.500044\n",
       "min       0.002707     0.074121     0.608098    -3.198657     0.000000\n",
       "25%       0.916897     0.334932     0.778414    -0.301915     0.000000\n",
       "50%       2.419036     0.447057     0.973677    -0.045029     0.500000\n",
       "75%      10.002327     0.604734     1.254676     0.287035     1.000000\n",
       "max     371.854311     1.000000     2.899104     1.866966     1.000000"
      ]
     },
     "execution_count": 129,
     "metadata": {},
     "output_type": "execute_result"
    }
   ],
   "source": [
    "# Ver estadísticas generales (valores mínimos, máximos, media, desviación estandar, etc.)\n",
    "print(\"Estadísticas descriptivas:\")\n",
    "df.describe()"
   ]
  },
  {
   "cell_type": "code",
   "execution_count": 130,
   "metadata": {},
   "outputs": [
    {
     "name": "stdout",
     "output_type": "stream",
     "text": [
      "Matriz de correlación entre variables:\n"
     ]
    },
    {
     "data": {
      "text/html": [
       "<div>\n",
       "<style scoped>\n",
       "    .dataframe tbody tr th:only-of-type {\n",
       "        vertical-align: middle;\n",
       "    }\n",
       "\n",
       "    .dataframe tbody tr th {\n",
       "        vertical-align: top;\n",
       "    }\n",
       "\n",
       "    .dataframe thead th {\n",
       "        text-align: right;\n",
       "    }\n",
       "</style>\n",
       "<table border=\"1\" class=\"dataframe\">\n",
       "  <thead>\n",
       "    <tr style=\"text-align: right;\">\n",
       "      <th></th>\n",
       "      <th>E_peak</th>\n",
       "      <th>beta</th>\n",
       "      <th>sigma</th>\n",
       "      <th>beta_Rel</th>\n",
       "      <th>astro_DM</th>\n",
       "    </tr>\n",
       "  </thead>\n",
       "  <tbody>\n",
       "    <tr>\n",
       "      <th>E_peak</th>\n",
       "      <td>1.000000</td>\n",
       "      <td>-0.111144</td>\n",
       "      <td>-0.069624</td>\n",
       "      <td>0.368473</td>\n",
       "      <td>0.432350</td>\n",
       "    </tr>\n",
       "    <tr>\n",
       "      <th>beta</th>\n",
       "      <td>-0.111144</td>\n",
       "      <td>1.000000</td>\n",
       "      <td>-0.116798</td>\n",
       "      <td>-0.266054</td>\n",
       "      <td>0.267154</td>\n",
       "    </tr>\n",
       "    <tr>\n",
       "      <th>sigma</th>\n",
       "      <td>-0.069624</td>\n",
       "      <td>-0.116798</td>\n",
       "      <td>1.000000</td>\n",
       "      <td>-0.347368</td>\n",
       "      <td>-0.143709</td>\n",
       "    </tr>\n",
       "    <tr>\n",
       "      <th>beta_Rel</th>\n",
       "      <td>0.368473</td>\n",
       "      <td>-0.266054</td>\n",
       "      <td>-0.347368</td>\n",
       "      <td>1.000000</td>\n",
       "      <td>0.329702</td>\n",
       "    </tr>\n",
       "    <tr>\n",
       "      <th>astro_DM</th>\n",
       "      <td>0.432350</td>\n",
       "      <td>0.267154</td>\n",
       "      <td>-0.143709</td>\n",
       "      <td>0.329702</td>\n",
       "      <td>1.000000</td>\n",
       "    </tr>\n",
       "  </tbody>\n",
       "</table>\n",
       "</div>"
      ],
      "text/plain": [
       "            E_peak      beta     sigma  beta_Rel  astro_DM\n",
       "E_peak    1.000000 -0.111144 -0.069624  0.368473  0.432350\n",
       "beta     -0.111144  1.000000 -0.116798 -0.266054  0.267154\n",
       "sigma    -0.069624 -0.116798  1.000000 -0.347368 -0.143709\n",
       "beta_Rel  0.368473 -0.266054 -0.347368  1.000000  0.329702\n",
       "astro_DM  0.432350  0.267154 -0.143709  0.329702  1.000000"
      ]
     },
     "execution_count": 130,
     "metadata": {},
     "output_type": "execute_result"
    }
   ],
   "source": [
    "# Ver los valores de correlación entre variables\n",
    "print(\"Matriz de correlación entre variables:\")\n",
    "df.corr()"
   ]
  },
  {
   "cell_type": "code",
   "execution_count": 131,
   "metadata": {},
   "outputs": [],
   "source": [
    "# Aplicar logaritmo\n",
    "df = df[(df['E_peak'] > 0) & (df['beta'] > 0)]  # Filtrar valores negativos antes de `log10`\n",
    "df['log_E_peak'] = np.log10(df['E_peak'])\n",
    "df['log_beta'] = np.log10(df['beta'])"
   ]
  },
  {
   "cell_type": "markdown",
   "metadata": {},
   "source": [
    "# Gráficos"
   ]
  },
  {
   "cell_type": "markdown",
   "metadata": {},
   "source": [
    "## Gráfico 𝐸 peak vs β (beta-plot)\n",
    "Separa distintas clases de fuentes según sus características espectrales y muestra cómo se distribuyen las fuentes astrofísicas y de materia oscura en este espacio.\n"
   ]
  },
  {
   "cell_type": "code",
   "execution_count": null,
   "metadata": {},
   "outputs": [],
   "source": [
    "plt.figure(figsize=(8,6))\n",
    "sns.scatterplot(data=df, x='log_E_peak', y='log_beta', hue='astro_DM', alpha=0.7, palette=['blue', 'red'])\n",
    "plt.xlabel(r'$\\log_{10}(E_{peak})$')\n",
    "plt.ylabel(r'$\\log_{10}(\\beta)$')\n",
    "plt.title('Beta-plot en escala logarítmica')\n",
    "plt.legend(title=\"Clase\", labels=[\"Astro\", \"DM\"])\n",
    "plt.show()"
   ]
  }
 ],
 "metadata": {
  "kernelspec": {
   "display_name": "Python 3 (ipykernel)",
   "language": "python",
   "name": "python3"
  },
  "language_info": {
   "codemirror_mode": {
    "name": "ipython",
    "version": 3
   },
   "file_extension": ".py",
   "mimetype": "text/x-python",
   "name": "python",
   "nbconvert_exporter": "python",
   "pygments_lexer": "ipython3",
   "version": "3.11.6"
  }
 },
 "nbformat": 4,
 "nbformat_minor": 4
}
