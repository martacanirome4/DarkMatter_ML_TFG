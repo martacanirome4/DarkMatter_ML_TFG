{
 "cells": [
  {
   "cell_type": "code",
   "execution_count": 4,
   "metadata": {},
   "outputs": [],
   "source": [
    "%matplotlib inline"
   ]
  },
  {
   "cell_type": "code",
   "execution_count": 5,
   "metadata": {},
   "outputs": [],
   "source": [
    "import numpy as np\n",
    "import matplotlib.pyplot as plt\n",
    "from sklearn.linear_model import LogisticRegression\n",
    "from sklearn import datasets\n",
    "import sklearn\n",
    "import seaborn as sns"
   ]
  },
  {
   "cell_type": "code",
   "execution_count": 6,
   "metadata": {},
   "outputs": [
    {
     "name": "stdout",
     "output_type": "stream",
     "text": [
      "['E_peak' 'beta' 'sigma' 'beta_Rel' '0,1=astro,DM']\n",
      "(5662, 5)\n",
      "(5662, 2)\n",
      "(5662,)\n",
      "4.056\n",
      "[0. 0. 0. ... 1. 1. 1.]\n"
     ]
    }
   ],
   "source": [
    "XY_bal_log_Rel= np.genfromtxt('XY_bal_log_Rel.txt',dtype='str') \n",
    "XY_bal_log_Rel_data = np.asarray(XY_bal_log_Rel[1::,:],dtype=float)\n",
    "print(XY_bal_log_Rel [0,:])\n",
    "\n",
    "print(XY_bal_log_Rel_data.shape)\n",
    "\n",
    "\n",
    "XY_bal_log_Rel_data_sigma0=np.zeros([0,XY_bal_log_Rel_data.shape[1]])\n",
    "\n",
    "sigmaastro=0\n",
    "\n",
    "\n",
    "for i in range (0,len(XY_bal_log_Rel_data)):\n",
    "    if XY_bal_log_Rel_data[i,2]>=sigmaastro: #remember columns are 0=beta, 1=beta_err, 2=E_peak, 3=sigma, 4=curv_sign\n",
    "        XY_bal_log_Rel_data_sigma0=np.concatenate( (XY_bal_log_Rel_data_sigma0, [XY_bal_log_Rel_data[i,:]] ) , axis=0)\n",
    "\n",
    "\n",
    "XY_bal_log_Rel_data=XY_bal_log_Rel_data_sigma0\n",
    "\n",
    "\n",
    "\n",
    "\n",
    "X_bal_log_Rel_data= XY_bal_log_Rel_data[:,[0,1]]\n",
    "Y=XY_bal_log_Rel_data[:,4]\n",
    "print(X_bal_log_Rel_data.shape)\n",
    "print(Y.shape)\n",
    "print(10**XY_bal_log_Rel_data[:,2].min())\n",
    "print(Y)"
   ]
  },
  {
   "cell_type": "code",
   "execution_count": 7,
   "metadata": {},
   "outputs": [
    {
     "ename": "IndexError",
     "evalue": "index 2 is out of bounds for axis 1 with size 2",
     "output_type": "error",
     "traceback": [
      "\u001b[0;31m---------------------------------------------------------------------------\u001b[0m",
      "\u001b[0;31mIndexError\u001b[0m                                Traceback (most recent call last)",
      "Cell \u001b[0;32mIn[7], line 23\u001b[0m\n\u001b[1;32m     20\u001b[0m ax1\u001b[38;5;241m.\u001b[39mset_xlabel(\u001b[38;5;124mr\u001b[39m\u001b[38;5;124m'\u001b[39m\u001b[38;5;124m $Log(\u001b[39m\u001b[38;5;124m\\\u001b[39m\u001b[38;5;124mbeta)$\u001b[39m\u001b[38;5;124m'\u001b[39m)\n\u001b[1;32m     21\u001b[0m ax1\u001b[38;5;241m.\u001b[39mset_ylabel(\u001b[38;5;124m'\u001b[39m\u001b[38;5;124mcount\u001b[39m\u001b[38;5;124m'\u001b[39m)\n\u001b[0;32m---> 23\u001b[0m ax2\u001b[38;5;241m.\u001b[39mhist(\u001b[43mX_bal_log_Rel_data\u001b[49m\u001b[43m[\u001b[49m\u001b[43m:\u001b[49m\u001b[43m,\u001b[49m\u001b[43m[\u001b[49m\u001b[38;5;241;43m2\u001b[39;49m\u001b[43m]\u001b[49m\u001b[43m]\u001b[49m, \u001b[38;5;241m100\u001b[39m, color\u001b[38;5;241m=\u001b[39m\u001b[38;5;124m'\u001b[39m\u001b[38;5;124morange\u001b[39m\u001b[38;5;124m'\u001b[39m)\n\u001b[1;32m     24\u001b[0m \u001b[38;5;66;03m#ax2.hist(DM_log_bal_Rel[:,[2]], 100, color='m')\u001b[39;00m\n\u001b[1;32m     25\u001b[0m \u001b[38;5;66;03m#ax2.hist(unids_log[:,[2]], 100, color='red')\u001b[39;00m\n\u001b[1;32m     26\u001b[0m \u001b[38;5;66;03m#ax2.set_title('sigma distribution')\u001b[39;00m\n\u001b[1;32m     27\u001b[0m ax2\u001b[38;5;241m.\u001b[39mset_xlabel(\u001b[38;5;124mr\u001b[39m\u001b[38;5;124m'\u001b[39m\u001b[38;5;124m $Log(\u001b[39m\u001b[38;5;124m\\\u001b[39m\u001b[38;5;124msigma_\u001b[39m\u001b[38;5;132;01m{TS}\u001b[39;00m\u001b[38;5;124m)$\u001b[39m\u001b[38;5;124m'\u001b[39m)\n",
      "\u001b[0;31mIndexError\u001b[0m: index 2 is out of bounds for axis 1 with size 2"
     ]
    },
    {
     "data": {
      "image/png": "[encoded data removed]",
      "text/plain": [
       "<Figure size 640x480 with 4 Axes>"
      ]
     },
     "metadata": {},
     "output_type": "display_data"
    }
   ],
   "source": [
    "import matplotlib.pyplot as plt\n",
    "\n",
    "fig, axes = plt.subplots(nrows=2, ncols=2)\n",
    "ax0, ax1, ax2, ax3 = axes.flatten()\n",
    "\n",
    "#colors = ['red', 'tan', 'lime']\n",
    "ax0.hist(X_bal_log_Rel_data[:,[0]], 100, color='orange')\n",
    "#ax0.hist(DM_log_bal_Rel[:,[0]], 100, color='m')\n",
    "#ax0.hist(unids_log[:,[0]], 100, color='red')\n",
    "#ax0.legend(prop={'size': 10})\n",
    "#ax0.set_title('Epeak distribution')\n",
    "ax0.set_xlabel(r' $Log(E_{peak})$')\n",
    "ax0.set_ylabel('count')\n",
    "\n",
    "ax1.hist(X_bal_log_Rel_data[:,[1]], 100, color='orange')\n",
    "#ax1.hist(DM_log_bal_Rel[:,[1]], 100, color='m')\n",
    "#ax1.hist(unids_log[:,[1]], 100,color='red')\n",
    "ax1.legend(('TOT: Astro+DM'))\n",
    "#ax1.set_title('Beta distribution')\n",
    "ax1.set_xlabel(r' $Log(\\beta)$')\n",
    "ax1.set_ylabel('count')\n",
    "\n",
    "ax2.hist(X_bal_log_Rel_data[:,[2]], 100, color='orange')\n",
    "#ax2.hist(DM_log_bal_Rel[:,[2]], 100, color='m')\n",
    "#ax2.hist(unids_log[:,[2]], 100, color='red')\n",
    "#ax2.set_title('sigma distribution')\n",
    "ax2.set_xlabel(r' $Log(\\sigma_{TS})$')\n",
    "ax2.set_ylabel('count')\n",
    "\n",
    "\n",
    "ax3.hist(X_bal_log_Rel_data[:,[3]], 100, color='orange')\n",
    "#ax3.hist(DM_log_bal_Rel[:,[3]], 100, color='m')\n",
    "#ax3.hist(unids_log[:,[3]], 100, color='red')\n",
    "#ax3.set_title('beta_err distribution')\n",
    "ax3.set_xlabel(r' $Log(\\beta_{rel})$')\n",
    "ax3.set_ylabel('count')\n",
    "\n",
    "\n",
    "\n",
    "fig.tight_layout()\n",
    "plt.show()\n",
    "\n",
    "#fig.savefig(\"histo_tot_data_bal.pdf\", bbox_inches='tight')"
   ]
  },
  {
   "cell_type": "code",
   "execution_count": 8,
   "metadata": {},
   "outputs": [
    {
     "ename": "IndexError",
     "evalue": "index 2 is out of bounds for axis 1 with size 2",
     "output_type": "error",
     "traceback": [
      "\u001b[0;31m---------------------------------------------------------------------------\u001b[0m",
      "\u001b[0;31mIndexError\u001b[0m                                Traceback (most recent call last)",
      "Cell \u001b[0;32mIn[8], line 1\u001b[0m\n\u001b[0;32m----> 1\u001b[0m \u001b[38;5;28mprint\u001b[39m(\u001b[38;5;124m'\u001b[39m\u001b[38;5;124msigma max\u001b[39m\u001b[38;5;124m'\u001b[39m,\u001b[38;5;241m10\u001b[39m\u001b[38;5;241m*\u001b[39m\u001b[38;5;241m*\u001b[39m\u001b[43mX_bal_log_Rel_data\u001b[49m\u001b[43m[\u001b[49m\u001b[43m:\u001b[49m\u001b[43m,\u001b[49m\u001b[38;5;241;43m2\u001b[39;49m\u001b[43m]\u001b[49m\u001b[38;5;241m.\u001b[39mmax())\n\u001b[1;32m      2\u001b[0m \u001b[38;5;28mprint\u001b[39m(\u001b[38;5;124m'\u001b[39m\u001b[38;5;124msigma min\u001b[39m\u001b[38;5;124m'\u001b[39m,\u001b[38;5;241m10\u001b[39m\u001b[38;5;241m*\u001b[39m\u001b[38;5;241m*\u001b[39mX_bal_log_Rel_data[:,\u001b[38;5;241m2\u001b[39m]\u001b[38;5;241m.\u001b[39mmin())\n\u001b[1;32m      3\u001b[0m \u001b[38;5;28mprint\u001b[39m(\u001b[38;5;124m'\u001b[39m\u001b[38;5;124mlog sigma max\u001b[39m\u001b[38;5;124m'\u001b[39m,X_bal_log_Rel_data[:,\u001b[38;5;241m2\u001b[39m]\u001b[38;5;241m.\u001b[39mmax())\n",
      "\u001b[0;31mIndexError\u001b[0m: index 2 is out of bounds for axis 1 with size 2"
     ]
    }
   ],
   "source": [
    "print('sigma max',10**X_bal_log_Rel_data[:,2].max())\n",
    "print('sigma min',10**X_bal_log_Rel_data[:,2].min())\n",
    "print('log sigma max',X_bal_log_Rel_data[:,2].max())\n",
    "print('log sigma min',X_bal_log_Rel_data[:,2].min())\n",
    "np.log10(100)"
   ]
  },
  {
   "cell_type": "code",
   "execution_count": 9,
   "metadata": {},
   "outputs": [
    {
     "name": "stdout",
     "output_type": "stream",
     "text": [
      "2831\n",
      "2831\n"
     ]
    }
   ],
   "source": [
    "NDM_sample=0\n",
    "\n",
    "for i in range(0,len(Y)):\n",
    "       if Y[i]==1: \n",
    "        NDM_sample=NDM_sample+1\n",
    "\n",
    "print (NDM_sample)\n",
    "\n",
    "Nastro_sample=0\n",
    "\n",
    "for i in range(0,len(Y)):\n",
    "       if Y[i]==0: \n",
    "        Nastro_sample=Nastro_sample+1\n",
    "        \n",
    "print (Nastro_sample)        "
   ]
  },
  {
   "cell_type": "code",
   "execution_count": 10,
   "metadata": {},
   "outputs": [
    {
     "name": "stdout",
     "output_type": "stream",
     "text": [
      "(5662, 2)\n",
      "[0.70814035 0.22474019 0.25731851 0.32611046]\n",
      "[-1.73752546e-04 -5.81201709e-01 -5.61932550e-01 -1.10017950e+00]\n",
      "(5662,)\n"
     ]
    }
   ],
   "source": [
    "X_log=X_bal_log_Rel_data\n",
    "\n",
    "#normalizer = sklearn.preprocessing.StandardScaler()\n",
    "#normalizer.fit(X_log)\n",
    "#print('StandardSaler mean', normalizer.mean_)\n",
    "#X_log = normalizer.transform(X_log)\n",
    "\n",
    "#X_log = np.log10(X_log)\n",
    "\n",
    "print(X_log.shape)\n",
    "print(X_log[1:5,0])\n",
    "print(X_log[1:5,1])\n",
    "\n",
    "\n",
    "print(Y.shape)"
   ]
  },
  {
   "cell_type": "code",
   "execution_count": 11,
   "metadata": {},
   "outputs": [
    {
     "name": "stdout",
     "output_type": "stream",
     "text": [
      "['E_peak' 'beta' 'sigma_det' 'beta_Rel' 'number']\n",
      "(1125, 2)\n"
     ]
    }
   ],
   "source": [
    "unids_3F = np.genfromtxt('unids_3F_beta_err_names.txt',dtype='str') \n",
    "unids_3F_data = np.asarray(unids_3F[1::,:],dtype=float)\n",
    "\n",
    "print(unids_3F[0,:])\n",
    "\n",
    "unids_log=np.log10(unids_3F_data[:,[0,1]])\n",
    "print(unids_log.shape)"
   ]
  },
  {
   "cell_type": "code",
   "execution_count": 12,
   "metadata": {
    "scrolled": true
   },
   "outputs": [
    {
     "data": {
      "image/png": "[encoded data removed]",
      "text/plain": [
       "<Figure size 640x480 with 1 Axes>"
      ]
     },
     "metadata": {},
     "output_type": "display_data"
    }
   ],
   "source": [
    "import matplotlib.pyplot as plt\n",
    "\n",
    "f = plt.figure()\n",
    "plt.scatter(unids_log[:,0],unids_log[:,1], color='red',label='unids',s=5)\n",
    "plt.scatter(np.log10(unids_3F_data[:,0]),np.log10(unids_3F_data[:,1]), \n",
    "          color='green',label='DM-cand',s=1)\n",
    "#plt.errorbar(selected_unIDs_80[:,0], selected_unIDs_80[:,1], yerr=selected_unIDs_80[:,3], fmt=\"o\")\n",
    "\n",
    "plt.ylabel(r' $Log(\\beta)$')\n",
    "plt.xlabel(r' $Log(E_{peak})$')\n",
    "plt.xlim(-5,6)\n",
    "\n",
    "plt.legend()\n",
    "plt.show()"
   ]
  },
  {
   "cell_type": "code",
   "execution_count": null,
   "metadata": {},
   "outputs": [],
   "source": [
    "# ANN"
   ]
  },
  {
   "cell_type": "code",
   "execution_count": 9,
   "metadata": {},
   "outputs": [],
   "source": [
    "from sklearn.model_selection import GridSearchCV\n",
    "from sklearn.pipeline import Pipeline"
   ]
  },
  {
   "cell_type": "code",
   "execution_count": 89,
   "metadata": {},
   "outputs": [
    {
     "name": "stdout",
     "output_type": "stream",
     "text": [
      "rskf RepeatedStratifiedKFold(n_repeats=2, n_splits=5, random_state=None)\n",
      "train_index (4529,) test_index (1133,)\n",
      "train_index (4529,) test_index (1133,)\n",
      "train_index (4530,) test_index (1132,)\n",
      "train_index (4530,) test_index (1132,)\n",
      "train_index (4530,) test_index (1132,)\n",
      "train_index (4529,) test_index (1133,)\n",
      "train_index (4529,) test_index (1133,)\n",
      "train_index (4530,) test_index (1132,)\n",
      "train_index (4530,) test_index (1132,)\n",
      "train_index (4530,) test_index (1132,)\n",
      "X_train_split.shape (4530, 2)\n",
      "X_test_split.shape (1132, 2)\n"
     ]
    }
   ],
   "source": [
    "from sklearn.model_selection import RepeatedStratifiedKFold\n",
    "from sklearn.neural_network import MLPClassifier\n",
    "from sklearn.metrics import accuracy_score\n",
    "from sklearn.metrics import confusion_matrix\n",
    "\n",
    "normalizer = sklearn.preprocessing.StandardScaler()\n",
    "\n",
    "N_splits=5 #25% of testing set with N_splits=4, but we lost the easy 5 statitics in each bin\n",
    "N_Repeats=2\n",
    "#N_sample=N_splits*N_Repeats\n",
    "\n",
    "OA=[]\n",
    "TN=[]\n",
    "TP=[]\n",
    "#unIDs_std_proba_check_repeated_rs_stats_all=np.array((1,))\n",
    "\n",
    "#OA_rs_stats=open(\"OA_rs_stats.txt\", \"w\")\n",
    "#OA_rs_stats.write('seed_value OA \\n') \n",
    "#TN_rs_stats=open(\"TN_rs_stats.txt\", \"w\")\n",
    "#TN_rs_stats.write('seed_value TN \\n') \n",
    "#TP_rs_stats=open(\"TP_rs_stats.txt\", \"w\")\n",
    "#TP_rs_stats.write('seed_value TP \\n') \n",
    "\n",
    "unids_DM_std_proba_check_repeated_kfold_2F_21=open(\"unids_DM_std_proba_check_repeated_kfold_2F_21.txt\", \"w\")\n",
    "unids_DM_std_proba_check_repeated_kfold_2F_21.write('Numb unids_DM_proba_check_repeated_kfold \\n') \n",
    "\n",
    "\n",
    "\n",
    "rskf = RepeatedStratifiedKFold(n_splits=N_splits, n_repeats=N_Repeats)\n",
    "rskf.get_n_splits(X_log, Y)\n",
    "print('rskf',rskf)\n",
    "ANN = MLPClassifier(solver='adam', alpha=0.0, batch_size=120, hidden_layer_sizes=(21,), \n",
    "                 learning_rate_init=0.015, max_iter=1000, random_state=None, activation='relu')\n",
    "    \n",
    "for train_index, test_index in rskf.split(X_log, Y):\n",
    "        print('train_index',train_index.shape, \"test_index\", test_index.shape)\n",
    "        X_train_split, X_test_split = X_log[train_index], X_log[test_index]\n",
    "        Y_train_split, Y_test_split = Y[train_index], Y[test_index]\n",
    "        normalizer.fit(X_train_split)\n",
    "        X_train_split_std=normalizer.transform(X_train_split)\n",
    "        X_test_split_std=normalizer.transform(X_test_split)\n",
    "    \n",
    "        ANN_fit=ANN.fit(X_train_split_std, Y_train_split)\n",
    "        Y_test_split_01_std_check=ANN_fit.predict(X_test_split_std)\n",
    "        Y_test_split_proba_std_check=ANN_fit.predict_proba(X_test_split_std)\n",
    "        \n",
    "        OA.extend([accuracy_score(Y_test_split, Y_test_split_01_std_check)])\n",
    "        conf_matrix=sklearn.metrics.confusion_matrix(Y_test_split, Y_test_split_01_std_check, normalize='true')\n",
    "        TN.extend([conf_matrix[0,0]])\n",
    "        TP.extend([conf_matrix[1,1]])\n",
    "        \n",
    "        \n",
    "           \n",
    "        unids_std_check=normalizer.transform(unids_log)\n",
    "        unIDs_std_proba_check_repeated_kfold=ANN_fit.predict_proba(unids_std_check)\n",
    "        \n",
    "        for i in range(0,len(unids_std_check)):\n",
    "                #unIDs_std_proba_check_repeated_rs_stats_all[i]=np.append(ANN_fit.predict_proba(unids_std_check)[i,1])\n",
    "                unids_DM_std_proba_check_repeated_kfold_2F_21.write('{} {} \\n'.format(i, \n",
    "                                                                    unIDs_std_proba_check_repeated_kfold[i,1]))\n",
    "   \n",
    "\n",
    "       # OA_rs_stats.write('{} {} \\n'.format(seed_value[j], OA[j]))\n",
    "        #TN_rs_stats.write('{} {} \\n'.format(seed_value[j], TN[j]))\n",
    "        #TP_rs_stats.write('{} {} \\n'.format(seed_value[j], TP[j]))  \n",
    "\n",
    "    \n",
    "unids_DM_std_proba_check_repeated_kfold_2F_21.close()\n",
    "\n",
    "#OA_rs_stats.close()\n",
    "#TN_rs_stats.close()\n",
    "#TP_rs_stats.close()\n",
    "\n",
    "\n",
    "print('X_train_split.shape', X_train_split.shape)\n",
    "print('X_test_split.shape', X_test_split.shape)\n",
    "\n",
    "#unIDs_std_proba_check_repeated_rs_stats=np.array(unIDs_std_proba_check_repeated_rs_stats)\n",
    "#print('unIDs_std_proba_check_repeated_rs_stats.shape',unIDs_std_proba_check_repeated_rs_stats.shape)\n",
    "#print(unIDs_std_proba_check_repeated_rs_stats[0:3,:])\n",
    "\n",
    "OA=np.array(OA)\n",
    "#OA=np.reshape(OA,(len(unids_std_check),(N_sample)))\n",
    "TN=np.array(TN)\n",
    "#TN=np.reshape(TN,(len(unids_std_check),(N_sample)))\n",
    "TP=np.array(TP)\n",
    "#TP=np.reshape(TP,(len(unids_std_check),(N_sample)))\n",
    "\n"
   ]
  },
  {
   "cell_type": "code",
   "execution_count": 90,
   "metadata": {},
   "outputs": [
    {
     "name": "stdout",
     "output_type": "stream",
     "text": [
      "(10,)\n",
      "OA mean 0.862768721209834 OA std 0.00841848326579048\n",
      "TN mean 0.8624154779042883 TN std 0.04846378606233923\n",
      "TP mean 0.863115024834695 TP std 0.04429024957731266\n",
      "(1125, 2)\n"
     ]
    }
   ],
   "source": [
    "print(OA.shape)\n",
    "#print(OA)\n",
    "print('OA mean', OA.mean(), 'OA std',OA.std(ddof=1))\n",
    "print('TN mean', TN.mean(), 'TN std',TN.std(ddof=1))\n",
    "print('TP mean', TP.mean(), 'TP std',TP.std(ddof=1))\n",
    "print(unIDs_std_proba_check_repeated_kfold.shape)"
   ]
  },
  {
   "cell_type": "code",
   "execution_count": 91,
   "metadata": {},
   "outputs": [
    {
     "data": {
      "image/png": "[encoded data removed]",
      "text/plain": [
       "<Figure size 432x288 with 1 Axes>"
      ]
     },
     "metadata": {
      "needs_background": "light"
     },
     "output_type": "display_data"
    }
   ],
   "source": [
    "import matplotlib.pyplot as plt\n",
    "\n",
    "f = plt.figure()\n",
    "#plt.scatter(unids_log[:,0],unids_log[:,1], color='red',label='unids log',s=5)\n",
    "#plt.scatter(np.log10(unids_3F_data[:,0]),np.log10(unids_3F_data[:,1]), \n",
    "         # color='green',label='unids lin data',s=1)\n",
    "plt.scatter(unids_std_check[:,0],unids_std_check[:,1], \n",
    "          color='blue',label='unids norm',s=1)\n",
    "plt.scatter(X_test_split_std[:,0],X_test_split_std[:,1], \n",
    "          color='yellow',label='X_train_split',s=1)\n",
    "#plt.errorbar(selected_unIDs_80[:,0], selected_unIDs_80[:,1], yerr=selected_unIDs_80[:,3], fmt=\"o\")\n",
    "\n",
    "plt.ylabel(r' $Log(\\beta)$')\n",
    "plt.xlabel(r' $Log(E_{peak})$')\n",
    "plt.xlim(-5,6)\n",
    "\n",
    "plt.legend()\n",
    "plt.show()"
   ]
  },
  {
   "cell_type": "code",
   "execution_count": 92,
   "metadata": {},
   "outputs": [],
   "source": [
    "from matplotlib.patches import Patch\n",
    "\n",
    "cmap_data = plt.cm.Paired\n",
    "cmap_cv = plt.cm.coolwarm\n",
    "\n",
    "def plot_cv_indices(cv, X, y, group, ax, n_splits, lw=10):\n",
    "    \"\"\"Create a sample plot for indices of a cross-validation object.\"\"\"\n",
    "\n",
    "    # Generate the training/testing visualizations for each CV split\n",
    "    for ii, (tr, tt) in enumerate(cv.split(X=X, y=y, groups=group)):\n",
    "        # Fill in indices with the training/test groups\n",
    "        indices = np.array([np.nan] * len(X))\n",
    "        indices[tt] = 1\n",
    "        indices[tr] = 0\n",
    "\n",
    "        # Visualize the results\n",
    "        ax.scatter(\n",
    "            range(len(indices)),\n",
    "            [ii + 0.5] * len(indices),\n",
    "            c=indices,\n",
    "            marker=\"_\",\n",
    "            lw=lw,\n",
    "            cmap=cmap_cv,\n",
    "            vmin=-0.2,\n",
    "            vmax=1.2,\n",
    "        )\n",
    "\n",
    "    # Plot the data classes and groups at the end\n",
    "    ax.scatter(\n",
    "        range(len(X)), [ii + 1.5] * len(X), c=y, marker=\"_\", lw=lw, cmap=cmap_data\n",
    "    )\n",
    "\n",
    "    ax.scatter(\n",
    "        range(len(X)), [ii + 2.5] * len(X), c=group, marker=\"_\", lw=lw, cmap=cmap_data\n",
    "    )\n",
    "\n",
    "    # Formatting\n",
    "    yticklabels = list(range(n_splits)) + [\"class\", \"group\"]\n",
    "    ax.set(\n",
    "        yticks=np.arange(n_splits + 2) + 0.5,\n",
    "        yticklabels=yticklabels,\n",
    "        xlabel=\"Sample index\",\n",
    "        ylabel=\"CV iteration\",\n",
    "        ylim=[n_splits + 2.2, -0.5],\n",
    "        xlim=[0, len(X_log)],\n",
    "    )\n",
    "    ax.set_title(\"{}\".format(type(cv).__name__), fontsize=15)\n",
    "    return ax"
   ]
  },
  {
   "cell_type": "code",
   "execution_count": 93,
   "metadata": {
    "scrolled": true
   },
   "outputs": [
    {
     "data": {
      "text/plain": [
       "<matplotlib.legend.Legend at 0x7ff001cb6ee0>"
      ]
     },
     "execution_count": 93,
     "metadata": {},
     "output_type": "execute_result"
    },
    {
     "data": {
      "image/png": "[encoded data removed]",
      "text/plain": [
       "<Figure size 432x288 with 1 Axes>"
      ]
     },
     "metadata": {
      "needs_background": "light"
     },
     "output_type": "display_data"
    }
   ],
   "source": [
    "fig, ax = plt.subplots()\n",
    "cv = rskf\n",
    "plot_cv_indices(cv, X_log , Y, Y ,ax, N_splits*N_Repeats)\n",
    "ax.axes\n",
    "ax.legend(\n",
    "        [Patch(color=cmap_cv(0.8)), Patch(color=cmap_cv(0.2))],\n",
    "        [\"Testing set\", \"Training set\"],\n",
    "        loc=(1.02, 0.8),\n",
    "    )\n",
    "\n",
    "#fig.savefig(\"Reapeated5_Kfold5_split.pdf\", bbox_inches='tight')"
   ]
  },
  {
   "cell_type": "markdown",
   "metadata": {},
   "source": [
    "# unIDs classification with errors"
   ]
  },
  {
   "cell_type": "code",
   "execution_count": 94,
   "metadata": {},
   "outputs": [
    {
     "name": "stdout",
     "output_type": "stream",
     "text": [
      "['E_peak' 'beta' 'sigma_det' 'beta_Rel' 'number']\n",
      "(1125, 2)\n"
     ]
    }
   ],
   "source": [
    "unids_3F = np.genfromtxt('unids_3F_beta_err_names.txt',dtype='str') \n",
    "unids_3F_data = np.asarray(unids_3F[1::,:],dtype=float)\n",
    "\n",
    "print(unids_3F[0,:])\n",
    "\n",
    "unids_log=np.log10(unids_3F_data[:,[0,1]])\n",
    "print(unids_log.shape)"
   ]
  },
  {
   "cell_type": "code",
   "execution_count": 95,
   "metadata": {},
   "outputs": [
    {
     "name": "stdout",
     "output_type": "stream",
     "text": [
      "[0.00000000e+00 1.47044841e-13]\n",
      "[1.         0.41648542]\n",
      "unids_DM_std_proba_data_repeated_kfold.shape (11250, 2)\n",
      "[0.00000000e+00 1.47044841e-13]\n",
      "[1.         0.41648542]\n",
      "[2.         0.59536826]\n"
     ]
    }
   ],
   "source": [
    "unids_DM_std_proba_repeated_kfold= np.genfromtxt('unids_DM_std_proba_check_repeated_kfold_2F_21.txt',dtype='str') \n",
    "unids_DM_std_proba_data_repeated_kfold=np.asarray(unids_DM_std_proba_repeated_kfold[1::],dtype=float)\n",
    "print(unids_DM_std_proba_data_repeated_kfold[0,:])\n",
    "print(unids_DM_std_proba_data_repeated_kfold[1,:])\n",
    "\n",
    "#N_splits=5\n",
    "#N_Repeats=3\n",
    "\n",
    "print('unids_DM_std_proba_data_repeated_kfold.shape',unids_DM_std_proba_data_repeated_kfold.shape)\n",
    "print(unids_DM_std_proba_data_repeated_kfold[0,0:3])\n",
    "print(unids_DM_std_proba_data_repeated_kfold[1,0:3])\n",
    "print(unids_DM_std_proba_data_repeated_kfold[2,0:3])"
   ]
  },
  {
   "cell_type": "code",
   "execution_count": 96,
   "metadata": {},
   "outputs": [
    {
     "name": "stdout",
     "output_type": "stream",
     "text": [
      "N_unids 1125\n",
      "N_sample 10\n",
      "(11250, 2)\n",
      "unids number [0.000e+00 1.000e+00 2.000e+00 ... 1.122e+03 1.123e+03 1.124e+03]\n",
      "unids number shape (1125,)\n",
      "unids_DM_std_proba_N_sample_repeated_kfold.shape (1125, 11)\n",
      "[[0.00000000e+000 1.47044841e-013 4.16485425e-001 ... 6.25190381e-015\n",
      "  4.00073957e-001 5.62239386e-004]\n",
      " [1.00000000e+000 2.09954630e-041 7.12994863e-057 ... 9.11651495e-005\n",
      "  1.58085674e-052 5.09002596e-001]\n",
      " [2.00000000e+000 1.56056250e-114 1.31556997e-020 ... 9.26548906e-007\n",
      "  9.33350771e-009 4.59108448e-001]\n",
      " ...\n",
      " [1.12200000e+003 3.11297893e-003 4.92745910e-001 ... 5.39099962e-001\n",
      "  8.26679247e-001 4.73007492e-001]\n",
      " [1.12300000e+003 8.42992555e-002 4.60724640e-001 ... 1.73787045e-017\n",
      "  2.68085057e-016 4.48458992e-001]\n",
      " [1.12400000e+003 4.95229366e-001 4.52110965e-081 ... 5.44147235e-014\n",
      "  1.90690557e-049 4.79256465e-001]]\n"
     ]
    }
   ],
   "source": [
    "#defining an array where each column is the probability to be DM for each unIDs in each split\n",
    "\n",
    "#defining an array where each column is the probability to be DM for each unIDs in each split\n",
    "\n",
    "\n",
    "N_unids=unids_log.shape[0]\n",
    "print('N_unids',N_unids)\n",
    "\n",
    "#N_splits=3\n",
    "#N_Repeats=10\n",
    "\n",
    "N_sample=N_splits*N_Repeats\n",
    "print('N_sample',N_sample)\n",
    "\n",
    "print(unids_DM_std_proba_data_repeated_kfold.shape)\n",
    "\n",
    "unids_number=unids_DM_std_proba_data_repeated_kfold[0:N_unids,0]\n",
    "\n",
    "print('unids number',unids_number)\n",
    "print('unids number shape',unids_number.shape)\n",
    "\n",
    "unids_DM_std_proba_N_sample_repeated_kfold=np.zeros((N_unids,(N_sample+1)))\n",
    "\n",
    "unids_DM_std_proba_N_sample_repeated_kfold[:,0]=unids_number[:].astype(int)\n",
    "unids_DM_std_proba_N_sample_repeated_kfold[:,1:(N_sample+1)]=np.reshape(\n",
    "unids_DM_std_proba_data_repeated_kfold[:,1],(N_unids,(N_sample)))\n",
    "\n",
    "print('unids_DM_std_proba_N_sample_repeated_kfold.shape', \n",
    "      unids_DM_std_proba_N_sample_repeated_kfold.shape)\n",
    "print(unids_DM_std_proba_N_sample_repeated_kfold)\n",
    "\n",
    "#unids_DM_std_proba_N_sample_repeated_kfold=np.array(unids_DM_std_proba_N_sample_repeated_kfold)\n",
    "\n",
    "#unids_int_prob=float((unids_DM_std_proba_N_sample_repeated_kfold[:,1].T))\n",
    "#print(unids_int_prob)"
   ]
  },
  {
   "cell_type": "code",
   "execution_count": 97,
   "metadata": {},
   "outputs": [
    {
     "name": "stdout",
     "output_type": "stream",
     "text": [
      "unids_mean [0.2119484  0.15925779 0.26139587 ... 0.36358311 0.2631317  0.24551854] unids std [0.23523109 0.23720815 0.36230137 ... 0.33482873 0.26456216 0.25992294]\n",
      "(1125,)\n"
     ]
    }
   ],
   "source": [
    "unids_mean=unids_DM_std_proba_N_sample_repeated_kfold[:,1:(N_sample+1)].mean(axis=1)\n",
    "unids_std=unids_DM_std_proba_N_sample_repeated_kfold[:,1:(N_sample+1)].std(axis=1,ddof=1)\n",
    "print('unids_mean', unids_mean, 'unids std',unids_std)\n",
    "print(unids_mean.shape)\n",
    "p_cut=0.90\n",
    "p_cut_50=0.50"
   ]
  },
  {
   "cell_type": "code",
   "execution_count": 98,
   "metadata": {},
   "outputs": [
    {
     "data": {
      "text/plain": [
       "Text(0, 0.5, 'count')"
      ]
     },
     "execution_count": 98,
     "metadata": {},
     "output_type": "execute_result"
    },
    {
     "data": {
      "image/png": "[encoded data removed]",
      "text/plain": [
       "<Figure size 432x288 with 1 Axes>"
      ]
     },
     "metadata": {
      "needs_background": "light"
     },
     "output_type": "display_data"
    }
   ],
   "source": [
    "import matplotlib.pyplot as plt\n",
    "\n",
    "bins=[0.0,0.1,0.2,0.3,0.4,0.5,0.6,0.7,0.8,0.9,1.0]\n",
    "\n",
    "fig, axes = plt.subplots(nrows=1, ncols=1)\n",
    "#ax0, ax1, ax2 = axes.flatten()\n",
    "#for i in range(0,len(unids_DM_std_proba_N_sample_repeated_kfold)):\n",
    "counts_all, bins_all, ignored = plt.hist(unids_DM_std_proba_N_sample_repeated_kfold[:,1:(N_sample+1)], \n",
    "                                             bins, histtype='barstacked', density=False)\n",
    "plt.axvline(0.50, color='magenta', linestyle=':', linewidth=2)\n",
    "plt.axvline(0.68, color='red', linestyle=':', linewidth=2)\n",
    "plt.axvline(0.95, color='blue', linestyle='--', linewidth=2)\n",
    "plt.axvline(0.99, color='black', linestyle='-', linewidth=2)\n",
    "#plt.axvline(value_unID, color='k', linestyle='-', linewidth=1)\n",
    "#plt.axvline(unids_std.all(), color='green', linestyle='-', linewidth=1)\n",
    "#plt.axvline(unids_std.all(), color='green', linestyle='--', linewidth=1)\n",
    "\n",
    "plt.xlabel(r' $p_k(DM)$',size=20)\n",
    "plt.ylabel('count',size=20)\n",
    "\n",
    "#fig.savefig(\"full_histo_2F.pdf\", bbox_inches='tight')\n"
   ]
  },
  {
   "cell_type": "code",
   "execution_count": 99,
   "metadata": {},
   "outputs": [
    {
     "name": "stdout",
     "output_type": "stream",
     "text": [
      "(1125, 10)\n",
      "1125\n",
      "(1125, 10)\n",
      "[['midnightblue' 'midnightblue' 'midnightblue' ... 'midnightblue'\n",
      "  'midnightblue' 'midnightblue']\n",
      " ['midnightblue' 'midnightblue' 'midnightblue' ... 'midnightblue'\n",
      "  'midnightblue' 'midnightblue']\n",
      " ['midnightblue' 'midnightblue' 'midnightblue' ... 'midnightblue'\n",
      "  'midnightblue' 'midnightblue']\n",
      " ...\n",
      " ['midnightblue' 'midnightblue' 'midnightblue' ... 'midnightblue'\n",
      "  'midnightblue' 'midnightblue']\n",
      " ['midnightblue' 'midnightblue' 'midnightblue' ... 'midnightblue'\n",
      "  'midnightblue' 'midnightblue']\n",
      " ['midnightblue' 'midnightblue' 'midnightblue' ... 'midnightblue'\n",
      "  'midnightblue' 'midnightblue']]\n"
     ]
    }
   ],
   "source": [
    "all_color=np.asarray(unids_DM_std_proba_N_sample_repeated_kfold[:,1:(N_sample+1)],dtype='str')\n",
    "\n",
    "print(all_color.shape)\n",
    "\n",
    "for i in range(0,len(unids_DM_std_proba_N_sample_repeated_kfold[:,1:(N_sample+1)])):\n",
    "    for j in range(0,N_sample):\n",
    "        all_color[i,j]='midnightblue'\n",
    "\n",
    "print(len(unids_log))    \n",
    "print(all_color.shape)\n",
    "print(all_color)"
   ]
  },
  {
   "cell_type": "code",
   "execution_count": 100,
   "metadata": {},
   "outputs": [
    {
     "data": {
      "text/plain": [
       "Text(0.31622776601683794, 1, ' $NN, 2F$')"
      ]
     },
     "execution_count": 100,
     "metadata": {},
     "output_type": "execute_result"
    },
    {
     "data": {
      "image/png": "[encoded data removed]",
      "text/plain": [
       "<Figure size 432x288 with 1 Axes>"
      ]
     },
     "metadata": {
      "needs_background": "light"
     },
     "output_type": "display_data"
    }
   ],
   "source": [
    "import matplotlib.pyplot as plt\n",
    "\n",
    "fig, axes = plt.subplots(nrows=1, ncols=1)\n",
    "#ax0, ax1, ax2 = axes.flatten()\n",
    "\n",
    "bins=[0.0,0.1,0.2,0.3,0.4,0.5,0.6,0.7,0.8,0.9,1.0]\n",
    "\n",
    "counts_all, bins_all, ignored = plt.hist(unids_DM_std_proba_N_sample_repeated_kfold[:,1:(N_sample+1)], \n",
    "                                         bins,histtype='barstacked', density=False, color=all_color[i,:])\n",
    "#plt.scatter(bins_all[:],counts_all[:])\n",
    "plt.axvline(0.50, color='magenta', linestyle=':', linewidth=1)\n",
    "plt.axvline(0.68, color='red', linestyle=':', linewidth=1)\n",
    "plt.axvline(0.90, color='blue', linestyle='--', linewidth=1)\n",
    "plt.axvline(0.95, color='black', linestyle='--', linewidth=1)\n",
    "plt.axvline(0.99, color='gray', linestyle='--', linewidth=1)\n",
    "#plt.axvline(value_unID, color='k', linestyle='-', linewidth=1)\n",
    "#plt.axvline(unids_std.all(), color='green', linestyle='-', linewidth=1)\n",
    "#plt.axvline(unids_std.all(), color='green', linestyle='--', linewidth=1)\n",
    "\n",
    "plt.xlabel(r' $p_k^{DM}$',size=15)\n",
    "plt.ylabel('count',size=15)\n",
    "plt.title(r' $NN, 2F$', y=10**(0), x=10**(-0.5), pad=-30)\n",
    "#plt.yscale('log')\n",
    "\n",
    "#fig.savefig(\"full_histo_2F_single_count.pdf\", bbox_inches='tight')\n",
    "\n"
   ]
  },
  {
   "cell_type": "code",
   "execution_count": null,
   "metadata": {},
   "outputs": [],
   "source": []
  }
 ],
 "metadata": {
  "kernelspec": {
   "display_name": "Python 3 (ipykernel)",
   "language": "python",
   "name": "python3"
  },
  "language_info": {
   "codemirror_mode": {
    "name": "ipython",
    "version": 3
   },
   "file_extension": ".py",
   "mimetype": "text/x-python",
   "name": "python",
   "nbconvert_exporter": "python",
   "pygments_lexer": "ipython3",
   "version": "3.11.6"
  }
 },
 "nbformat": 4,
 "nbformat_minor": 4
}
