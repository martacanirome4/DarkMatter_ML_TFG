{
 "cells": [
  {
   "cell_type": "code",
   "execution_count": 1,
   "metadata": {},
   "outputs": [],
   "source": [
    "%matplotlib inline"
   ]
  },
  {
   "cell_type": "code",
   "execution_count": 2,
   "metadata": {},
   "outputs": [],
   "source": [
    "import numpy as np\n",
    "import matplotlib.pyplot as plt\n",
    "from sklearn.linear_model import LogisticRegression\n",
    "from sklearn import datasets\n",
    "import sklearn\n",
    "import seaborn as sns"
   ]
  },
  {
   "cell_type": "code",
   "execution_count": 3,
   "metadata": {},
   "outputs": [
    {
     "name": "stdout",
     "output_type": "stream",
     "text": [
      "['E_peak' 'beta' 'sigma' 'beta_Rel' '0,1=astro,DM']\n",
      "(5662, 5)\n",
      "(5662, 4)\n",
      "(5662,)\n",
      "4.056\n",
      "[0. 0. 0. ... 1. 1. 1.]\n"
     ]
    }
   ],
   "source": [
    "# PREPROCESAMIENTO DE DATOS\n",
    "\n",
    "# ----- LECTURA DE DATOS -----\n",
    "# Leemos los datos del archivo txt\n",
    "XY_bal_log_Rel= np.genfromtxt('XY_bal_log_Rel.txt',dtype='str')\n",
    "# Convertimos los datos a float omitiendo la primera fila que son los nombres de las columnas\n",
    "XY_bal_log_Rel_data = np.asarray(XY_bal_log_Rel[1::,:],dtype=float)\n",
    "\n",
    "# ----- VERIFICACIÓN DE DATOS -----\n",
    "# Imprimimos la primera fila de los datos para verificar los encabezados (columnas)\n",
    "print(XY_bal_log_Rel [0,:])\n",
    "# Imprimimos la forma del arreglo para confirmar las dimensiones se los datos cargados (filas,columnas)\n",
    "print(XY_bal_log_Rel_data.shape)\n",
    "\n",
    "# ----- INICIALIZACIÓN DE MATRIZ VACÍA PARA ALMACENAR DATOS FILTRADOS -----\n",
    "# Inicializamos un arreglo (matriz) vacío con el mismo número de columnas que los datos cargados\n",
    "# para almacenar los datos normalizados\n",
    "XY_bal_log_Rel_data_sigma0=np.zeros([0,XY_bal_log_Rel_data.shape[1]])\n",
    "\n",
    "# Se establece el valor de sigmaastro a 0 para seleccionar los datos con sigmaastro mayor a 0\n",
    "sigmaastro=0\n",
    "\n",
    "# ------ FILTRADO DE DATOS -----\n",
    "# Recorremos los datos cargados y seleccionamos los datos cuyo valor en la columna 2 (E_peak) sea mayor o igual a sigmaastro (0)\n",
    "# y los agregamos a la matriz vacía XY_bal_log_Rel_data_sigma0\n",
    "for i in range (0,len(XY_bal_log_Rel_data)):\n",
    "    if XY_bal_log_Rel_data[i,2]>=sigmaastro: #remember columns are 0=beta, 1=beta_err, 2=E_peak, 3=sigma, 4=curv_sign\n",
    "        XY_bal_log_Rel_data_sigma0=np.concatenate( (XY_bal_log_Rel_data_sigma0, [XY_bal_log_Rel_data[i,:]] ) , axis=0)\n",
    "\n",
    "# ----- ACTUALIZACIÓN DE DATOS -----\n",
    "# Se actualiza la variable XY_bal_log_Rel_data con las filas filtradas \n",
    "XY_bal_log_Rel_data=XY_bal_log_Rel_data_sigma0\n",
    "\n",
    "# ----- SEPARACIÓN DE CARACTERÍSTICAS Y ETIQUETAS -----\n",
    "# Se separan las características (X) de las etiquetas (Y)\n",
    "# X_bal_log_Rel_data contiene las columnas 0,1,2 y 3 (beta, beta_err, E_peak y sigma)\n",
    "X_bal_log_Rel_data= XY_bal_log_Rel_data[:,[0,1,2,3]]\n",
    "# Y contiene la columna 4 (curv_sign)\n",
    "Y=XY_bal_log_Rel_data[:,4]\n",
    "\n",
    "# ----- VERIFICACIÓN FINAL -----\n",
    "# Se imprime la forma de los datos para verificar que se hayan cargado correctamente\n",
    "print(X_bal_log_Rel_data.shape)\n",
    "print(Y.shape)\n",
    "# Se imprime el valor mínimo de E_peak (columna 2) en escala logarítmica\n",
    "print(10**XY_bal_log_Rel_data[:,2].min())\n",
    "# Se imprime los valres de Y\n",
    "print(Y)"
   ]
  },
  {
   "cell_type": "code",
   "execution_count": 4,
   "metadata": {},
   "outputs": [
    {
     "data": {
      "image/png": "[encoded data removed]",
      "text/plain": [
       "<Figure size 640x480 with 4 Axes>"
      ]
     },
     "metadata": {},
     "output_type": "display_data"
    }
   ],
   "source": [
    "# ----- GRÁFICA DE HISTOGRAMAS -----\n",
    "import matplotlib.pyplot as plt\n",
    "\n",
    "# Se crea una figura con 2 filas y 2 columnas\n",
    "fig, axes = plt.subplots(nrows=2, ncols=2)\n",
    "# Se asignan los ejes a variables\n",
    "ax0, ax1, ax2, ax3 = axes.flatten()\n",
    "\n",
    "# ---- HISTOGRAMA 1 ----\n",
    "# Para cada uno de los ejes se grafica un histograma con 100 bins y los datos de las columnas 0,1,2 y 3\n",
    "# labels = ['Astro', 'DM', 'UnID']\n",
    "ax0.hist(X_bal_log_Rel_data[:,[0]], 100, color='orange')\n",
    "#ax0.hist(DM_log_bal_Rel[:,[0]], 100, color='m')\n",
    "#ax0.hist(unids_log[:,[0]], 100, color='red')\n",
    "#ax0.legend(prop={'size': 10})\n",
    "#ax0.set_title('Epeak distribution')\n",
    "# Se configuran las etiquetas de eje x como Log(E_peak) y de eje y como count\n",
    "ax0.set_xlabel(r' $Log(E_{peak})$')\n",
    "ax0.set_ylabel('count')\n",
    "\n",
    "# ---- HISTOGRAMA 2 ----\n",
    "# Se grafica el histograma de la columna 1 (beta) en el eje 1\n",
    "ax1.hist(X_bal_log_Rel_data[:,[1]], 100, color='orange')\n",
    "#ax1.hist(DM_log_bal_Rel[:,[1]], 100, color='m')\n",
    "#ax1.hist(unids_log[:,[1]], 100,color='red')\n",
    "# Se añade una leyenda con los nombres de las distribuciones\n",
    "ax1.legend(('TOT: Astro+DM'))\n",
    "#ax1.set_title('Beta distribution')\n",
    "# Se configuran las etiquetas de eje x como Log(beta) y de eje y como count\n",
    "ax1.set_xlabel(r' $Log(\\beta)$')\n",
    "ax1.set_ylabel('count')\n",
    "\n",
    "# ---- HISTOGRAMA 3 ----\n",
    "# Se grafica el histograma de la columna 2 (sigma) en el eje 2\n",
    "ax2.hist(X_bal_log_Rel_data[:,[2]], 100, color='orange')\n",
    "#ax2.hist(DM_log_bal_Rel[:,[2]], 100, color='m')\n",
    "#ax2.hist(unids_log[:,[2]], 100, color='red')\n",
    "#ax2.set_title('sigma distribution')\n",
    "# Se configuran las etiquetas de eje x como Log(sigma) y de eje y como count\n",
    "ax2.set_xlabel(r' $Log(\\sigma_{TS})$')\n",
    "ax2.set_ylabel('count')\n",
    "\n",
    "\n",
    "# ---- HISTOGRAMA 4 ----\n",
    "# Se grafica el histograma de la columna 3 (beta_err) en el eje 3\n",
    "ax3.hist(X_bal_log_Rel_data[:,[3]], 100, color='orange')\n",
    "#ax3.hist(DM_log_bal_Rel[:,[3]], 100, color='m')\n",
    "#ax3.hist(unids_log[:,[3]], 100, color='red')\n",
    "#ax3.set_title('beta_err distribution')\n",
    "# Se configuran las etiquetas de eje x como Log(beta_err) y de eje y como count\n",
    "ax3.set_xlabel(r' $Log(\\beta_{rel})$')\n",
    "ax3.set_ylabel('count')\n",
    "\n",
    "\n",
    "fig.tight_layout()\n",
    "plt.show()\n",
    "\n",
    "#fig.savefig(\"histo_tot_data_bal.pdf\", bbox_inches='tight')"
   ]
  },
  {
   "cell_type": "code",
   "execution_count": 5,
   "metadata": {},
   "outputs": [
    {
     "name": "stdout",
     "output_type": "stream",
     "text": [
      "sigma max 792.6913000000003\n",
      "sigma min 4.056\n",
      "log sigma max 2.89910409172093\n",
      "log sigma min 0.6080979463252796\n"
     ]
    },
    {
     "data": {
      "text/plain": [
       "np.float64(2.0)"
      ]
     },
     "execution_count": 5,
     "metadata": {},
     "output_type": "execute_result"
    }
   ],
   "source": [
    "# Se imprime el valor máximo y mínimo de E_peak en escala logarítmica\n",
    "# para verificar que los datos estén en el rango esperado\n",
    "print('sigma max',10**X_bal_log_Rel_data[:,2].max())\n",
    "print('sigma min',10**X_bal_log_Rel_data[:,2].min())\n",
    "print('log sigma max',X_bal_log_Rel_data[:,2].max())\n",
    "print('log sigma min',X_bal_log_Rel_data[:,2].min())\n",
    "np.log10(100)"
   ]
  },
  {
   "cell_type": "code",
   "execution_count": 6,
   "metadata": {},
   "outputs": [
    {
     "name": "stdout",
     "output_type": "stream",
     "text": [
      "2831\n",
      "2831\n"
     ]
    }
   ],
   "source": [
    "# Se utilizan las variables NDM_sample y Nastro_sample inicializadas en 0\n",
    "# para contar la cantidad de 1s y 0s en Y\n",
    "NDM_sample=0\n",
    "\n",
    "for i in range(0,len(Y)):\n",
    "       if Y[i]==1: \n",
    "        NDM_sample=NDM_sample+1\n",
    "\n",
    "print (NDM_sample)\n",
    "\n",
    "Nastro_sample=0\n",
    "\n",
    "for i in range(0,len(Y)):\n",
    "       if Y[i]==0: \n",
    "        Nastro_sample=Nastro_sample+1\n",
    "        \n",
    "print (Nastro_sample)"
   ]
  },
  {
   "cell_type": "code",
   "execution_count": 7,
   "metadata": {},
   "outputs": [
    {
     "name": "stdout",
     "output_type": "stream",
     "text": [
      "(5662, 4)\n",
      "[0.70814035 0.22474019 0.25731851 0.32611046]\n",
      "[-1.73752546e-04 -5.81201709e-01 -5.61932550e-01 -1.10017950e+00]\n",
      "(5662,)\n"
     ]
    }
   ],
   "source": [
    "X_log=X_bal_log_Rel_data\n",
    "\n",
    "#normalizer = sklearn.preprocessing.StandardScaler()\n",
    "#normalizer.fit(X_log)\n",
    "#print('StandardSaler mean', normalizer.mean_)\n",
    "#X_log = normalizer.transform(X_log)\n",
    "\n",
    "#X_log = np.log10(X_log)\n",
    "\n",
    "print(X_log.shape)\n",
    "print(X_log[1:5,0])\n",
    "print(X_log[1:5,1])\n",
    "\n",
    "\n",
    "print(Y.shape)"
   ]
  },
  {
   "cell_type": "code",
   "execution_count": 8,
   "metadata": {},
   "outputs": [
    {
     "name": "stdout",
     "output_type": "stream",
     "text": [
      "['E_peak' 'beta' 'sigma_det' 'beta_Rel' 'number']\n",
      "(1125, 4)\n"
     ]
    }
   ],
   "source": [
    "unids_3F = np.genfromtxt('unids_3F_beta_err_names.txt',dtype='str') \n",
    "unids_3F_data = np.asarray(unids_3F[1::,:],dtype=float)\n",
    "\n",
    "print(unids_3F[0,:])\n",
    "\n",
    "unids_log=np.log10(unids_3F_data[:,[0,1,2,3]])\n",
    "print(unids_log.shape)"
   ]
  },
  {
   "cell_type": "code",
   "execution_count": 9,
   "metadata": {
    "scrolled": true
   },
   "outputs": [
    {
     "data": {
      "image/png": "[encoded data removed]",
      "text/plain": [
       "<Figure size 640x480 with 1 Axes>"
      ]
     },
     "metadata": {},
     "output_type": "display_data"
    }
   ],
   "source": [
    "import matplotlib.pyplot as plt\n",
    "\n",
    "f = plt.figure()\n",
    "plt.scatter(unids_log[:,0],unids_log[:,1], color='red',label='unids',s=5)\n",
    "plt.scatter(np.log10(unids_3F_data[:,0]),np.log10(unids_3F_data[:,1]), \n",
    "          color='green',label='DM-cand',s=1)\n",
    "#plt.errorbar(selected_unIDs_80[:,0], selected_unIDs_80[:,1], yerr=selected_unIDs_80[:,3], fmt=\"o\")\n",
    "\n",
    "plt.ylabel(r' $Log(\\beta)$')\n",
    "plt.xlabel(r' $Log(E_{peak})$')\n",
    "plt.xlim(-5,6)\n",
    "\n",
    "plt.legend()\n",
    "plt.show()"
   ]
  },
  {
   "cell_type": "code",
   "execution_count": 10,
   "metadata": {},
   "outputs": [
    {
     "data": {
      "image/png": "[encoded data removed]",
      "text/plain": [
       "<Figure size 640x480 with 1 Axes>"
      ]
     },
     "metadata": {},
     "output_type": "display_data"
    }
   ],
   "source": [
    "import matplotlib.pyplot as plt\n",
    "\n",
    "f = plt.figure()\n",
    "plt.scatter(unids_log[:,0],unids_log[:,2], color='red',label='unids',s=5)\n",
    "#plt.scatter(np.log10(unids_3F_data[:,0]),np.log10(unids_3F_data[:,1]), \n",
    "         # color='green',label='DM-cand',s=1)\n",
    "#plt.errorbar(selected_unIDs_80[:,0], selected_unIDs_80[:,1], yerr=selected_unIDs_80[:,3], fmt=\"o\")\n",
    "\n",
    "plt.ylabel(r' $Log(sigma)$')\n",
    "plt.xlabel(r' $Log(E_{peak})$')\n",
    "#plt.xlim(-5,6)\n",
    "\n",
    "plt.legend()\n",
    "plt.show()"
   ]
  },
  {
   "cell_type": "markdown",
   "metadata": {},
   "source": [
    "# ANN"
   ]
  },
  {
   "cell_type": "code",
   "execution_count": 11,
   "metadata": {},
   "outputs": [],
   "source": [
    "from sklearn.model_selection import GridSearchCV\n",
    "from sklearn.pipeline import Pipeline"
   ]
  },
  {
   "cell_type": "code",
   "execution_count": 12,
   "metadata": {},
   "outputs": [],
   "source": [
    "### n_activation_cells = np.arange(1, 100, 100//20)\n",
    "#hidden_layers = (n_activation_cells, n_activation_cells)\n",
    "from sklearn.preprocessing import StandardScaler\n",
    "from sklearn.neural_network import MLPClassifier\n",
    "\n",
    "#classifier = MLPClassifier(solver='adam', alpha=0.0, batch_size=120, \n",
    "#hidden_layer_sizes=(11, 1), learning_rate_init=0.015, max_iter=1000, random_state=0, activation='relu')\n",
    "\n",
    "N_cells = np.arange(1, 110, 10)\n",
    "hidden_layers_1 = [ (n_cells,)  for n_cells in N_cells  ]\n",
    "hidden_layers_2 = [ (n_cells, n_cells)  for n_cells in N_cells  ]\n",
    "#hidden_layers_3 = [ (n_cells, n_cells, n_cells)  for n_cells in N_cells  ]\n",
    "#hidden_layers_4 = [ (n_cells, n_cells, n_cells, n_cells)  for n_cells in N_cells  ]\n",
    "\n",
    "params = [{'model__hidden_layer_sizes': hidden_layers_1},\n",
    "         {'model__hidden_layer_sizes': hidden_layers_2},\n",
    "         #{'model__hidden_layer_sizes': hidden_layers_3},\n",
    "         #{'model__hidden_layer_sizes': hidden_layers_4},\n",
    "         ]\n",
    "\n",
    "steps = [ ('scaler', StandardScaler()),\n",
    "         ('model', MLPClassifier(solver='adam', alpha=0.0, batch_size=120, hidden_layer_sizes=params, learning_rate_init=0.015, max_iter=1000, random_state=None, activation='relu') ) ] #1e-4 es la default así que no cambia nada\n",
    "\n",
    "pipe = Pipeline(steps)\n",
    "\n"
   ]
  },
  {
   "cell_type": "code",
   "execution_count": 13,
   "metadata": {},
   "outputs": [
    {
     "name": "stdout",
     "output_type": "stream",
     "text": [
      "rskf RepeatedStratifiedKFold(n_repeats=1, n_splits=5, random_state=None)\n",
      "train_index (4529,) test_index (1133,)\n",
      "train_index (4529,) test_index (1133,)\n",
      "train_index (4530,) test_index (1132,)\n",
      "train_index (4530,) test_index (1132,)\n",
      "train_index (4530,) test_index (1132,)\n",
      "X_train_split.shape (4530, 4)\n",
      "X_test_split.shape (1132, 4)\n"
     ]
    }
   ],
   "source": [
    "from sklearn.model_selection import RepeatedStratifiedKFold\n",
    "from sklearn.neural_network import MLPClassifier\n",
    "from sklearn.metrics import accuracy_score\n",
    "from sklearn.metrics import confusion_matrix\n",
    "\n",
    "normalizer = sklearn.preprocessing.StandardScaler()\n",
    "\n",
    "N_splits=5 #25% of testing set with N_splits=4, but we lost the easy 5 statitics in each bin\n",
    "N_Repeats=1\n",
    "#N_sample=N_splits*N_Repeats\n",
    "\n",
    "OA=[]\n",
    "TN=[]\n",
    "TP=[]\n",
    "#unIDs_std_proba_check_repeated_rs_stats_all=np.array((1,))\n",
    "\n",
    "#OA_rs_stats=open(\"OA_rs_stats.txt\", \"w\")\n",
    "#OA_rs_stats.write('seed_value OA \\n') \n",
    "#TN_rs_stats=open(\"TN_rs_stats.txt\", \"w\")\n",
    "#TN_rs_stats.write('seed_value TN \\n') \n",
    "#TP_rs_stats=open(\"TP_rs_stats.txt\", \"w\")\n",
    "#TP_rs_stats.write('seed_value TP \\n') \n",
    "\n",
    "unids_DM_std_proba_check_repeated_kfold_rskf_4F_21=open(\"unids_DM_std_proba_check_repeated_kfold_rskf_4F_21.txt\", \"w\")\n",
    "unids_DM_std_proba_check_repeated_kfold_rskf_4F_21.write('Numb unids_DM_proba_check_repeated_kfold \\n') \n",
    "\n",
    "\n",
    "\n",
    "rskf = RepeatedStratifiedKFold(n_splits=N_splits, n_repeats=N_Repeats)\n",
    "rskf.get_n_splits(X_log, Y)\n",
    "print('rskf',rskf)\n",
    "ANN = MLPClassifier(solver='adam', alpha=0.0, batch_size=120, hidden_layer_sizes=(21,), \n",
    "                 learning_rate_init=0.015, max_iter=1000, random_state=None, activation='relu')\n",
    "    \n",
    "for train_index, test_index in rskf.split(X_log, Y):\n",
    "        print('train_index',train_index.shape, \"test_index\", test_index.shape)\n",
    "        X_train_split, X_test_split = X_log[train_index], X_log[test_index]\n",
    "        Y_train_split, Y_test_split = Y[train_index], Y[test_index]\n",
    "        normalizer.fit(X_train_split)\n",
    "        X_train_split_std=normalizer.transform(X_train_split)\n",
    "        X_test_split_std=normalizer.transform(X_test_split)\n",
    "    \n",
    "        ANN_fit=ANN.fit(X_train_split_std, Y_train_split)\n",
    "        Y_test_split_01_std_check=ANN_fit.predict(X_test_split_std)\n",
    "        Y_test_split_proba_std_check=ANN_fit.predict_proba(X_test_split_std)\n",
    "        \n",
    "        OA.extend([accuracy_score(Y_test_split, Y_test_split_01_std_check)])\n",
    "        conf_matrix=sklearn.metrics.confusion_matrix(Y_test_split, Y_test_split_01_std_check, normalize='true')\n",
    "        TN.extend([conf_matrix[0,0]])\n",
    "        TP.extend([conf_matrix[1,1]])\n",
    "        \n",
    "        \n",
    "           \n",
    "        unids_std_check=normalizer.transform(unids_log)\n",
    "        unIDs_std_proba_check_repeated_kfold=ANN_fit.predict_proba(unids_std_check)\n",
    "        \n",
    "        for i in range(0,len(unids_std_check)):\n",
    "                #unIDs_std_proba_check_repeated_rs_stats_all[i]=np.append(ANN_fit.predict_proba(unids_std_check)[i,1])\n",
    "                unids_DM_std_proba_check_repeated_kfold_rskf_4F_21.write('{} {} \\n'.format(i, \n",
    "                                                                    unIDs_std_proba_check_repeated_kfold[i,1]))\n",
    "   \n",
    "\n",
    "       # OA_rs_stats.write('{} {} \\n'.format(seed_value[j], OA[j]))\n",
    "        #TN_rs_stats.write('{} {} \\n'.format(seed_value[j], TN[j]))\n",
    "        #TP_rs_stats.write('{} {} \\n'.format(seed_value[j], TP[j]))  \n",
    "\n",
    "    \n",
    "unids_DM_std_proba_check_repeated_kfold_rskf_4F_21.close()\n",
    "\n",
    "#OA_rs_stats.close()\n",
    "#TN_rs_stats.close()\n",
    "#TP_rs_stats.close()\n",
    "\n",
    "\n",
    "print('X_train_split.shape', X_train_split.shape)\n",
    "print('X_test_split.shape', X_test_split.shape)\n",
    "\n",
    "#unIDs_std_proba_check_repeated_rs_stats=np.array(unIDs_std_proba_check_repeated_rs_stats)\n",
    "#print('unIDs_std_proba_check_repeated_rs_stats.shape',unIDs_std_proba_check_repeated_rs_stats.shape)\n",
    "#print(unIDs_std_proba_check_repeated_rs_stats[0:3,:])\n",
    "\n",
    "OA=np.array(OA)\n",
    "#OA=np.reshape(OA,(len(unids_std_check),(N_sample)))\n",
    "TN=np.array(TN)\n",
    "#TN=np.reshape(TN,(len(unids_std_check),(N_sample)))\n",
    "TP=np.array(TP)\n",
    "#TP=np.reshape(TP,(len(unids_std_check),(N_sample)))\n",
    "\n"
   ]
  },
  {
   "cell_type": "code",
   "execution_count": 3,
   "metadata": {},
   "outputs": [
    {
     "ename": "NameError",
     "evalue": "name 'params' is not defined",
     "output_type": "error",
     "traceback": [
      "\u001b[0;31m---------------------------------------------------------------------------\u001b[0m",
      "\u001b[0;31mNameError\u001b[0m                                 Traceback (most recent call last)",
      "Cell \u001b[0;32mIn[3], line 10\u001b[0m\n\u001b[1;32m      7\u001b[0m \u001b[38;5;66;03m#fig.suptitle('ANN Best Hyper-parameters (2Features & 2Classes)', fontsize=16)\u001b[39;00m\n\u001b[1;32m      9\u001b[0m best_score \u001b[38;5;241m=\u001b[39m \u001b[38;5;241m0\u001b[39m\n\u001b[0;32m---> 10\u001b[0m \u001b[38;5;28;01mfor\u001b[39;00m i, param \u001b[38;5;129;01min\u001b[39;00m \u001b[38;5;28menumerate\u001b[39m(\u001b[43mparams\u001b[49m):\n\u001b[1;32m     11\u001b[0m     \u001b[38;5;66;03m#params = {'model__hidden_layer_sizes': (N_cells,)}\u001b[39;00m\n\u001b[1;32m     12\u001b[0m     search \u001b[38;5;241m=\u001b[39m GridSearchCV(pipe, param, scoring\u001b[38;5;241m=\u001b[39m\u001b[38;5;124m'\u001b[39m\u001b[38;5;124maccuracy\u001b[39m\u001b[38;5;124m'\u001b[39m, n_jobs\u001b[38;5;241m=\u001b[39m\u001b[38;5;241m-\u001b[39m\u001b[38;5;241m1\u001b[39m, \n\u001b[1;32m     13\u001b[0m                           cv\u001b[38;5;241m=\u001b[39mStratifiedKFold(n_splits\u001b[38;5;241m=\u001b[39m\u001b[38;5;241m5\u001b[39m, shuffle\u001b[38;5;241m=\u001b[39m\u001b[38;5;28;01mTrue\u001b[39;00m, random_state\u001b[38;5;241m=\u001b[39m\u001b[38;5;241m0\u001b[39m))\u001b[38;5;241m.\u001b[39mfit(X_train_split, Y_train_split)\n\u001b[1;32m     15\u001b[0m     grid_results \u001b[38;5;241m=\u001b[39m pd\u001b[38;5;241m.\u001b[39mDataFrame( search\u001b[38;5;241m.\u001b[39mcv_results_ )\n",
      "\u001b[0;31mNameError\u001b[0m: name 'params' is not defined"
     ]
    },
    {
     "data": {
      "application/vnd.jupyter.widget-view+json": {
       "model_id": "d1bb7b5321cb47cabc513a1b1beecdae",
       "version_major": 2,
       "version_minor": 0
      },
      "image/png": "[encoded data removed]",
      "text/html": [
       "\n",
       "            <div style=\"display: inline-block;\">\n",
       "                <div class=\"jupyter-widgets widget-label\" style=\"text-align: center;\">\n",
       "                    Figure\n",
       "                </div>\n",
       "                <img src='data:image/png;base64,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' width=1400.0/>\n",
       "            </div>\n",
       "        "
      ],
      "text/plain": [
       "Canvas(toolbar=Toolbar(toolitems=[('Home', 'Reset original view', 'home', 'home'), ('Back', 'Back to previous …"
      ]
     },
     "metadata": {},
     "output_type": "display_data"
    }
   ],
   "source": [
    "%matplotlib widget\n",
    "import pandas as pd\n",
    "import matplotlib.pyplot as plt\n",
    "from sklearn.model_selection import train_test_split, StratifiedKFold\n",
    "\n",
    "fig, axs = plt.subplots(1, 2, figsize=(14, 7), sharex=True)\n",
    "#fig.suptitle('ANN Best Hyper-parameters (2Features & 2Classes)', fontsize=16)\n",
    "\n",
    "# Definir variable params??\n",
    "best_score = 0\n",
    "for i, param in enumerate(params):\n",
    "    #params = {'model__hidden_layer_sizes': (N_cells,)}\n",
    "    search = GridSearchCV(pipe, param, scoring='accuracy', n_jobs=-1, \n",
    "                          cv=StratifiedKFold(n_splits=5, shuffle=True, random_state=0)).fit(X_train_split, Y_train_split)\n",
    "    \n",
    "    grid_results = pd.DataFrame( search.cv_results_ )\n",
    "    \n",
    "    \n",
    "    # MAKE THE PLOT\n",
    "    axs[0].errorbar(N_cells, grid_results['mean_test_score'], yerr=grid_results['std_test_score'], \n",
    "                  fmt='-o', ms=5, mec='k', capsize=4, label= str(i+1)+' layers' )\n",
    "    axs[0].set_xlabel('Number of cells on each layer', fontsize=15)\n",
    "    axs[0].set_ylabel('accuracy', fontsize=15)\n",
    "    axs[0].grid(linestyle='-.', color='k')\n",
    "    \n",
    "    axs[1].errorbar(N_cells, grid_results['mean_fit_time'], yerr=grid_results['std_fit_time'],\n",
    "                   fmt='-o', ms=5, mec='k', capsize=4 )\n",
    "    \n",
    "    axs[0].set_xticks(np.arange(1, 110, step=10))\n",
    "    axs[0].set_yticks(np.arange(0.8, 1.01, step=0.1))\n",
    "    axs[1].set_xlabel('Number of cells on each layer', fontsize=15)\n",
    "    axs[1].set_ylabel('Fit Time (s)', fontsize=15)\n",
    "    axs[1].grid(linestyle='-.', color='k')\n",
    "    axs[0].legend(fontsize=15)\n",
    "    \n",
    "    #print(search.cv_results_ )"
   ]
  },
  {
   "cell_type": "code",
   "execution_count": null,
   "metadata": {},
   "outputs": [],
   "source": [
    "import math\n",
    "\n",
    "x_min, x_max = -6.5, 6.5 #Log[Epeak]\n",
    "y_min, y_max = -7.5, 0.5 #Log[Beta] (including truncated sample values, i.e. bmin-bmin_err>0.0)\n",
    "z_min, z_max = 0.0, 2.89 #Log[sigma_det] (including unids_min y sigma_det max ORIGINAL sample= TRUNCATED)\n",
    "#k_min, k_max = -7.5, 0.5\n",
    "k_min, k_max = X_log[:, 3].min(), X_log[:, 3].max()\n",
    "\n",
    "print(x_min,x_max,y_min,y_max,z_min,z_max,k_min,k_max)\n",
    "\n",
    "hx=0.1\n",
    "hy=0.1  # step size in the mesh\n",
    "hz=0.1\n",
    "hk=0.1\n",
    "\n",
    "\n",
    "xx, yy, zz, kk= np.meshgrid(np.arange(x_min, x_max, hx), np.arange(y_min, y_max, hy),np.arange(z_min, z_max, hz),np.arange(k_min, k_max, hk))\n",
    "\n",
    "\n",
    "\n",
    "#xx, yy, zz, kk= np.meshgrid(np.linspace(x_min, x_max, 100, endpoint=True), np.linspace(y_min, y_max, 120, endpoint=True),np.linspace(z_min, z_max, 100, endpoint=True),np.linspace(k_min, k_max, 100, endpoint=True))\n",
    "\n",
    "Z_classifier_sample= ANN_fit.predict_proba(np.c_[xx.ravel(), yy.ravel(),zz.ravel(), kk.ravel()])\n",
    "\n",
    "print(Z_classifier_sample.shape)\n",
    "print(Z_classifier_sample[0:5])\n",
    "#print(Z_liblin[1267728-5:1267728])\n",
    "print(xx.shape)\n",
    "print(yy.shape)\n",
    "#print(zz[1,:].shape)\n",
    "#print(xx[:,0:5])\n",
    "print('xsize',np.arange(x_min, x_max, hx).shape)\n",
    "print('ysize',np.arange(y_min, y_max, hy).shape)\n",
    "#print('zsize',np.arange(z_min, z_max, hz).shape)\n",
    "print(xx.shape)\n",
    "#print(yy[:,:,0].shape)"
   ]
  },
  {
   "cell_type": "code",
   "execution_count": 92,
   "metadata": {},
   "outputs": [
    {
     "name": "stdout",
     "output_type": "stream",
     "text": [
      "1132\n",
      "(1132,)\n",
      "['w' 'w' 'w' ... 'k' 'k' 'k']\n"
     ]
    }
   ],
   "source": [
    "Y_test_color=np.asarray(Y_test_split[:],dtype='str')\n",
    "\n",
    "print(len(Y_test_split))\n",
    "print(Y_test_color.shape)\n",
    "\n",
    "for i in range(0,len(Y_test_split)):\n",
    "    if Y_test_split[i]==1:\n",
    "        Y_test_color[i]='k'\n",
    "    elif Y_test_split[i]==0:\n",
    "         Y_test_color[i]='w'\n",
    "            \n",
    "\n",
    "print(Y_test_color) "
   ]
  },
  {
   "cell_type": "code",
   "execution_count": 15,
   "metadata": {
    "scrolled": true
   },
   "outputs": [
    {
     "ename": "NameError",
     "evalue": "name 'Z_classifier_sample' is not defined",
     "output_type": "error",
     "traceback": [
      "\u001b[0;31m---------------------------------------------------------------------------\u001b[0m",
      "\u001b[0;31mNameError\u001b[0m                                 Traceback (most recent call last)",
      "Cell \u001b[0;32mIn[15], line 3\u001b[0m\n\u001b[1;32m      1\u001b[0m \u001b[38;5;66;03m# Put the result into a color plot\u001b[39;00m\n\u001b[1;32m      2\u001b[0m \u001b[38;5;66;03m#Z_liblin = Z_liblin.reshape((xx.shape, yy.shape))\u001b[39;00m\n\u001b[0;32m----> 3\u001b[0m Z_classifier_sample_1 \u001b[38;5;241m=\u001b[39m \u001b[43mZ_classifier_sample\u001b[49m[:,\u001b[38;5;241m1\u001b[39m]\u001b[38;5;241m.\u001b[39mreshape(yy\u001b[38;5;241m.\u001b[39mshape)\n\u001b[1;32m      4\u001b[0m \u001b[38;5;28mprint\u001b[39m(Z_classifier_sample\u001b[38;5;241m.\u001b[39mshape)\n\u001b[1;32m      5\u001b[0m \u001b[38;5;66;03m#f=plt.figure(1, figsize=(4, 3))\u001b[39;00m\n",
      "\u001b[0;31mNameError\u001b[0m: name 'Z_classifier_sample' is not defined"
     ]
    }
   ],
   "source": [
    "# Put the result into a color plot\n",
    "#Z_liblin = Z_liblin.reshape((xx.shape, yy.shape))\n",
    "Z_classifier_sample_1 = Z_classifier_sample[:,1].reshape(yy.shape)\n",
    "print(Z_classifier_sample.shape)\n",
    "#f=plt.figure(1, figsize=(4, 3))\n",
    "f=plt.figure()\n",
    "plt.pcolormesh(xx[:,:,0,0], yy[:,:,0,0], Z_classifier_sample_1[:,:,0,0])\n",
    "#plt.colorbar()\n",
    "#plt.pcolormesh(xx, yy, Z_classifier_0, cmap=plt.cm.PiYG)\n",
    "\n",
    "# Plot also the training points\n",
    "\n",
    "Y_test_split_proba_std_check\n",
    "\n",
    "test=plt.scatter(X_test_split[:, 0],X_test_split[:, 1], c=Y_test_split_01_std_check[:], edgecolors=Y_test_color[:])\n",
    "#train=plt.scatter(X_train_split[:, 0],X_test[:, 1], c=Y_test_classifier[:,1], edgecolors='k')\n",
    "#unids=plt.scatter(unids_cut[:, 2], unids_cut[:, 0], c=Y_unids_liblin, edgecolors='m', cmap=plt.cm.Paired)\n",
    "#test=plt.scatter(X_test[:, 0], X_test[:, 1], c=Y_test_fit_liblin, edgecolors='c', cmap=plt.cm.Paired)\n",
    "\n",
    "#plt.yscale('log',basey=10) \n",
    "#plt.xscale('log',basex=10) \n",
    "plt.title('Last class')\n",
    "plt.ylabel('Log(beta)')\n",
    "plt.xlabel('Log(Epeak)')\n",
    "plt.xlim(xx.min(), xx.max())\n",
    "plt.ylim(yy.min(), yy.max())\n",
    "#plt.ylim(zz.min(), zz.max()+1000)\n",
    "#plt.legend((test, ), ('test',))\n",
    "\n",
    "\n",
    "#plt.legend((train, test, unids),\n",
    " #          ('train', 'test', 'unids'),\n",
    "  #         scatterpoints=1,\n",
    "   #        loc='lower left',\n",
    "    #       ncol=3,\n",
    "     #      fontsize=8)\n",
    "#plt.show()\n",
    "\n",
    "#plt.imshow(Z_classifier_sample_1[:,:,0,0],aspect='auto')\n",
    "plt.colorbar()\n",
    "plt.clim(0.0,1.0);\n",
    "\n",
    "\n",
    "#f.savefig(\"NN_proba_4F_bal.pdf\", bbox_inches='tight')\n",
    "#f.savefig(\"plot/test_Fit11_prob_class_E_beta.jpg\", format='jpg',bbox_inches='tight', dpi=100, quality=100)"
   ]
  },
  {
   "cell_type": "code",
   "execution_count": 94,
   "metadata": {},
   "outputs": [
    {
     "name": "stdout",
     "output_type": "stream",
     "text": [
      "(15381600, 2)\n"
     ]
    },
    {
     "data": {
      "application/vnd.jupyter.widget-view+json": {
       "model_id": "b77a350d119a4c50ab50afb94fee2f1d",
       "version_major": 2,
       "version_minor": 0
      },
      "text/plain": [
       "Canvas(toolbar=Toolbar(toolitems=[('Home', 'Reset original view', 'home', 'home'), ('Back', 'Back to previous …"
      ]
     },
     "metadata": {},
     "output_type": "display_data"
    },
    {
     "name": "stderr",
     "output_type": "stream",
     "text": [
      "<ipython-input-94-2406f581bb75>:7: MatplotlibDeprecationWarning: shading='flat' when X and Y have the same dimensions as C is deprecated since 3.3.  Either specify the corners of the quadrilaterals with X and Y, or pass shading='auto', 'nearest' or 'gouraud', or set rcParams['pcolor.shading'].  This will become an error two minor releases later.\n",
      "  plt.pcolormesh(xx[:,:,0,0], yy[:,:,0,0], Z_classifier_sample_1[:,:,0,0])\n"
     ]
    }
   ],
   "source": [
    "#Put the result into a color plot\n",
    "#Z_liblin = Z_liblin.reshape((xx.shape, yy.shape))\n",
    "Z_classifier_sample_1 = Z_classifier_sample[:,1].reshape(yy.shape)\n",
    "print(Z_classifier_sample.shape)\n",
    "#f=plt.figure(1, figsize=(4, 3))\n",
    "f=plt.figure()\n",
    "plt.pcolormesh(xx[:,:,0,0], yy[:,:,0,0], Z_classifier_sample_1[:,:,0,0])\n",
    "plt.colorbar()\n",
    "plt.clim(0.0,1.0);\n",
    "#plt.pcolormesh(xx, yy, Z_classifier_0, cmap=plt.cm.PiYG)\n",
    "\n",
    "# Plot also the training points\n",
    "\n",
    "\n",
    "#test=plt.scatter(X_test_split[:, 0],X_test_split[:, 1], c=Y_test_split_proba_std_check[:,1], edgecolors=Y_test_color[:])\n",
    "\n",
    "#test=plt.scatter(X_test[:, 0],X_test[:, 1], c=Y_test, edgecolors='k', cmap=plt.cm.PiYG)\n",
    "#test=plt.scatter(X_test[:, 0],X_test[:, 1], c=Y_test_classifier[:,1], edgecolors='k')\n",
    "unids=plt.scatter(unids_log[:, 0], unids_log[:, 1], c=unIDs_std_proba_check_repeated_kfold[:,1], edgecolors='c')\n",
    "#test=plt.scatter(X_test[:, 0], X_test[:, 1], c=Y_test_fit_liblin, edgecolors='c', cmap=plt.cm.Paired)\n",
    "\n",
    "#plt.yscale('log',basey=10) \n",
    "#plt.xscale('log',basex=10) \n",
    "plt.title('ANN- Adam  - 4F - Bal -  UnIDs')\n",
    "plt.ylabel('Log(beta)')\n",
    "plt.xlabel('Log(Epeak)')\n",
    "plt.xlim(xx.min(), xx.max())\n",
    "plt.ylim(yy.min(), yy.max())\n",
    "#plt.ylim(zz.min(), zz.max()+1000)\n",
    "#plt.legend('train')\n",
    "\n",
    "\n",
    "plt.legend((unids,),\n",
    "          ('unids',),\n",
    "          scatterpoints=1,\n",
    "           loc='lower left',\n",
    "           ncol=3,\n",
    "          fontsize=8)\n",
    "plt.show()\n",
    "\n",
    "#plt.imshow(Z_classifier_sample_1[:,:,0,0],aspect='auto')\n",
    "\n",
    "\n",
    "\n",
    "#f.savefig(\"NN_4F_BAL_unIDs.pdf\", bbox_inches='tight')\n",
    "#f.savefig(\"plot/test_Fit11_prob_class_E_beta.jpg\", format='jpg',bbox_inches='tight', dpi=100, quality=100)"
   ]
  },
  {
   "cell_type": "code",
   "execution_count": 95,
   "metadata": {},
   "outputs": [
    {
     "name": "stdout",
     "output_type": "stream",
     "text": [
      "(5,)\n",
      "OA mean 0.9286465464276024 OA std 0.013000340589499943\n",
      "TN mean 0.9445379251032963 TN std 0.01291771643127554\n",
      "TP mean 0.9127626027508242 TP std 0.020203466721391793\n",
      "(1125, 2)\n"
     ]
    }
   ],
   "source": [
    "print(OA.shape)\n",
    "#print(OA)\n",
    "print('OA mean', OA.mean(), 'OA std',OA.std(ddof=1))\n",
    "print('TN mean', TN.mean(), 'TN std',TN.std(ddof=1))\n",
    "print('TP mean', TP.mean(), 'TP std',TP.std(ddof=1))\n",
    "print(unIDs_std_proba_check_repeated_kfold.shape)"
   ]
  },
  {
   "cell_type": "code",
   "execution_count": 96,
   "metadata": {},
   "outputs": [
    {
     "data": {
      "application/vnd.jupyter.widget-view+json": {
       "model_id": "7bb330c9b3c542e0b810693f008e8f8c",
       "version_major": 2,
       "version_minor": 0
      },
      "text/plain": [
       "Canvas(toolbar=Toolbar(toolitems=[('Home', 'Reset original view', 'home', 'home'), ('Back', 'Back to previous …"
      ]
     },
     "metadata": {},
     "output_type": "display_data"
    }
   ],
   "source": [
    "import matplotlib.pyplot as plt\n",
    "import matplotlib.patches as mpatches\n",
    "\n",
    "\n",
    "f = plt.figure()\n",
    "\n",
    "for j in range(0,len(X_train_split_std)):\n",
    "        if 10**X_train_split[j,2]>=20:      \n",
    "            plt.errorbar(10**X_train_split[j,0],10**X_train_split[j,1], yerr=10**X_train_split[j,3]*10**X_train_split[j,1], fmt=\".\", color='orange',label='X_train_split')\n",
    "\n",
    "for i in range(0,len(unids_log)):\n",
    "    if 10**unids_log[i,2]>=20:\n",
    "            plt.errorbar(10**unids_log[i,0],10**unids_log[i,1], yerr=10**unids_log[i,3]*10**unids_log[i,1], fmt=\".\", color='red',label='unIDs')    \n",
    "\n",
    "#plt.errorbar(10**unids_std_check[i,0],10**unids_std_check[i,1], yerr=10**unids_std_check[i,3]*10**unids_std_check[i,1], fmt=\".\", color='red')\n",
    "        \n",
    "        #and X_train_split_std[j,2]>=50: \n",
    "#plt.scatter(10**unids_log[:,0],10**unids_log[:,1], color='red',label='unids log',s=5)\n",
    "#plt.errorbar(10**unids_log[:,0],10**unids_log[:,1], yerr=10**unids_log[:,3]*10**unids_log[:,1],\n",
    "            # fmt=\".\", color='red',label='unIDs')\n",
    "#plt.scatter(np.log10(unids_3F_data[:,0]),np.log10(unids_3F_data[:,1]), \n",
    " #         color='green',label='unids lin data',s=1)\n",
    "#plt.errorbar(10**X_train_split_std[:,0],10**X_train_split_std[:,1], yerr=10**X_train_split_std[:,3]*10**X_train_split_std[:,1],\n",
    "            # fmt=\".\", color='orange',label='X_train_split')     \n",
    "           \n",
    "#plt.scatter(unids_std_check[:,0],unids_std_check[:,1],\n",
    "        #  color='blue',label='unids norm',s=1)\n",
    "  # yerr=10**unids_log[index_selected[i],3]*10**unids_log[index_selected[i],1]\n",
    "          # plt.scatter(10**X_train_split_std[j,0],10**X_train_split_std[j,1], color='orange',label='X_train_split',s=1)\n",
    "#plt.errorbar(selected_unIDs_80[:,0], selected_unIDs_80[:,1], yerr=selected_unIDs_80[:,3], fmt=\"o\")\n",
    "\n",
    "plt.ylabel(r' $\\beta$')\n",
    "plt.xlabel(r' $E_{peak}$')\n",
    "plt.yscale('log',base=10) \n",
    "plt.xscale('log',base=10) \n",
    "\n",
    "orange_patch = mpatches.Patch(color='orange', label='Training set')\n",
    "red_patch = mpatches.Patch(color='red', label='unIDs')\n",
    "plt.legend(handles=[orange_patch,red_patch])\n",
    "\n",
    "#plt.legend()\n",
    "plt.show()\n",
    "\n",
    "\n",
    "#fig.savefig(\"Trainig_unIDs_errors_sigma20.pdf\", bbox_inches='tight')"
   ]
  },
  {
   "cell_type": "code",
   "execution_count": 97,
   "metadata": {},
   "outputs": [],
   "source": [
    "from matplotlib.patches import Patch\n",
    "\n",
    "cmap_data = plt.cm.Paired\n",
    "cmap_cv = plt.cm.coolwarm\n",
    "\n",
    "def plot_cv_indices(cv, X, y, group, ax, n_splits, lw=10):\n",
    "    \"\"\"Create a sample plot for indices of a cross-validation object.\"\"\"\n",
    "\n",
    "    # Generate the training/testing visualizations for each CV split\n",
    "    for ii, (tr, tt) in enumerate(cv.split(X=X, y=y, groups=group)):\n",
    "        # Fill in indices with the training/test groups\n",
    "        indices = np.array([np.nan] * len(X))\n",
    "        indices[tt] = 1\n",
    "        indices[tr] = 0\n",
    "\n",
    "        # Visualize the results\n",
    "        ax.scatter(\n",
    "            range(len(indices)),\n",
    "            [ii + 0.5] * len(indices),\n",
    "            c=indices,\n",
    "            marker=\"_\",\n",
    "            lw=lw,\n",
    "            cmap=cmap_cv,\n",
    "            vmin=-0.2,\n",
    "            vmax=1.2,\n",
    "        )\n",
    "\n",
    "    # Plot the data classes and groups at the end\n",
    "    ax.scatter(\n",
    "        range(len(X)), [ii + 1.5] * len(X), c=y, marker=\"_\", lw=lw, cmap=cmap_data\n",
    "    )\n",
    "\n",
    "    ax.scatter(\n",
    "        range(len(X)), [ii + 2.5] * len(X), c=group, marker=\"_\", lw=lw, cmap=cmap_data\n",
    "    )\n",
    "\n",
    "    # Formatting\n",
    "    yticklabels = list(range(n_splits)) + [\"class\", \"group\"]\n",
    "    ax.set(\n",
    "        yticks=np.arange(n_splits + 2) + 0.5,\n",
    "        yticklabels=yticklabels,\n",
    "        xlabel=\"Sample index\",\n",
    "        ylabel=\"CV iteration\",\n",
    "        ylim=[n_splits + 2.2, -0.5],\n",
    "        xlim=[0, len(X_log)],\n",
    "    )\n",
    "    ax.set_title(\"{}\".format(type(cv).__name__), fontsize=15)\n",
    "    return ax"
   ]
  },
  {
   "cell_type": "code",
   "execution_count": 98,
   "metadata": {
    "scrolled": true
   },
   "outputs": [
    {
     "data": {
      "application/vnd.jupyter.widget-view+json": {
       "model_id": "8f0e65521b26410eb84e5e474b522df2",
       "version_major": 2,
       "version_minor": 0
      },
      "text/plain": [
       "Canvas(toolbar=Toolbar(toolitems=[('Home', 'Reset original view', 'home', 'home'), ('Back', 'Back to previous …"
      ]
     },
     "metadata": {},
     "output_type": "display_data"
    },
    {
     "data": {
      "text/plain": [
       "<matplotlib.legend.Legend at 0x7f827559e850>"
      ]
     },
     "execution_count": 98,
     "metadata": {},
     "output_type": "execute_result"
    }
   ],
   "source": [
    "fig, ax = plt.subplots()\n",
    "cv = rskf\n",
    "plot_cv_indices(cv, X_log , Y, Y ,ax, N_splits*N_Repeats)\n",
    "ax.axes\n",
    "ax.legend(\n",
    "        [Patch(color=cmap_cv(0.8)), Patch(color=cmap_cv(0.2))],\n",
    "        [\"Testing set\", \"Training set\"],\n",
    "        loc=(1.02, 0.8),\n",
    "    )\n",
    "\n",
    "#fig.savefig(\"Reapeated5_Kfold5_split.pdf\", bbox_inches='tight')"
   ]
  },
  {
   "cell_type": "markdown",
   "metadata": {},
   "source": [
    "# unIDs classification with errors"
   ]
  },
  {
   "cell_type": "code",
   "execution_count": 99,
   "metadata": {},
   "outputs": [],
   "source": [
    "%matplotlib inline\n",
    "import numpy as np\n",
    "import matplotlib.pyplot as plt\n",
    "from sklearn.linear_model import LogisticRegression\n",
    "from sklearn import datasets\n",
    "import sklearn\n",
    "import seaborn as sns"
   ]
  },
  {
   "cell_type": "code",
   "execution_count": 100,
   "metadata": {},
   "outputs": [
    {
     "name": "stdout",
     "output_type": "stream",
     "text": [
      "['E_peak' 'beta' 'sigma_det' 'beta_Rel' 'number']\n",
      "(1125, 4)\n"
     ]
    }
   ],
   "source": [
    "unids_3F = np.genfromtxt('unids_3F_beta_err_names.txt',dtype='str') \n",
    "unids_3F_data = np.asarray(unids_3F[1::,:],dtype=float)\n",
    "\n",
    "print(unids_3F[0,:])\n",
    "\n",
    "unids_log=np.log10(unids_3F_data[:,[0,1,2,3]])\n",
    "print(unids_log.shape)"
   ]
  },
  {
   "cell_type": "code",
   "execution_count": 101,
   "metadata": {},
   "outputs": [
    {
     "name": "stdout",
     "output_type": "stream",
     "text": [
      "[0.00000000e+00 9.53072818e-08]\n",
      "[1.         0.34628067]\n",
      "unids_DM_std_proba_data_repeated_kfold.shape (5625, 2)\n",
      "[0.00000000e+00 9.53072818e-08]\n",
      "[1.         0.34628067]\n",
      "[2.         0.66871455]\n"
     ]
    }
   ],
   "source": [
    "unids_DM_std_proba_repeated_kfold= np.genfromtxt('unids_DM_std_proba_check_repeated_kfold_rskf_4F_21.txt',dtype='str') \n",
    "unids_DM_std_proba_data_repeated_kfold=np.asarray(unids_DM_std_proba_repeated_kfold[1::],dtype=float)\n",
    "print(unids_DM_std_proba_data_repeated_kfold[0,:])\n",
    "print(unids_DM_std_proba_data_repeated_kfold[1,:])\n",
    "\n",
    "#N_splits=5\n",
    "#N_Repeats=20\n",
    "\n",
    "print('unids_DM_std_proba_data_repeated_kfold.shape',unids_DM_std_proba_data_repeated_kfold.shape)\n",
    "print(unids_DM_std_proba_data_repeated_kfold[0,0:3])\n",
    "print(unids_DM_std_proba_data_repeated_kfold[1,0:3])\n",
    "print(unids_DM_std_proba_data_repeated_kfold[2,0:3])"
   ]
  },
  {
   "cell_type": "code",
   "execution_count": 102,
   "metadata": {},
   "outputs": [
    {
     "name": "stdout",
     "output_type": "stream",
     "text": [
      "N_unids 1125\n",
      "N_sample 5\n",
      "(5625, 2)\n",
      "unids number [0.000e+00 1.000e+00 2.000e+00 ... 1.122e+03 1.123e+03 1.124e+03]\n",
      "unids number shape (1125,)\n",
      "unids_DM_std_proba_N_sample_repeated_kfold.shape (1125, 6)\n",
      "[[0.00000000e+00 9.53072818e-08 3.46280673e-01 6.68714552e-01\n",
      "  1.25700700e-01 3.19630185e-01]\n",
      " [1.00000000e+00 1.81796942e-11 4.04203192e-12 4.55672069e-09\n",
      "  2.42259720e-01 3.00141103e-03]\n",
      " [2.00000000e+00 1.74486223e-21 8.40762464e-30 2.86260382e-01\n",
      "  1.11060938e-46 4.21940694e-01]\n",
      " ...\n",
      " [1.12200000e+03 4.14428952e-01 2.23689290e-11 5.71363174e-08\n",
      "  6.39336060e-08 3.30825836e-01]\n",
      " [1.12300000e+03 2.08133918e-01 1.64073668e-35 2.34899955e-01\n",
      "  1.55110233e-01 6.07279821e-05]\n",
      " [1.12400000e+03 1.11452587e-25 3.73237101e-01 1.63549801e-06\n",
      "  1.35565697e-20 4.05809276e-01]]\n"
     ]
    }
   ],
   "source": [
    "#defining an array where each column is the probability to be DM for each unIDs in each split\n",
    "\n",
    "import itertools \n",
    "\n",
    "N_unids=unids_log.shape[0]\n",
    "print('N_unids',N_unids)\n",
    "\n",
    "N_sample=N_splits*N_Repeats\n",
    "print('N_sample',N_sample)\n",
    "\n",
    "print(unids_DM_std_proba_data_repeated_kfold.shape)\n",
    "\n",
    "unids_number=unids_DM_std_proba_data_repeated_kfold[0:N_unids,0]\n",
    "\n",
    "print('unids number',unids_number)\n",
    "print('unids number shape',unids_number.shape)\n",
    "\n",
    "unids_DM_std_proba_N_sample_repeated_kfold=np.zeros((N_unids,(N_sample+1)))\n",
    "\n",
    "unids_DM_std_proba_N_sample_repeated_kfold[:,0]=unids_number[:].astype(int)\n",
    "unids_DM_std_proba_N_sample_repeated_kfold[:,1:(N_sample+1)]=np.reshape(\n",
    "unids_DM_std_proba_data_repeated_kfold[:,1],(N_unids,(N_sample)))\n",
    "\n",
    "print('unids_DM_std_proba_N_sample_repeated_kfold.shape', \n",
    "      unids_DM_std_proba_N_sample_repeated_kfold.shape)\n",
    "print(unids_DM_std_proba_N_sample_repeated_kfold)\n",
    "\n",
    "#unids_DM_std_proba_N_sample_repeated_kfold=np.array(unids_DM_std_proba_N_sample_repeated_kfold)\n",
    "\n",
    "#unids_int_prob=float((unids_DM_std_proba_N_sample_repeated_kfold[:,1].T))\n",
    "#print(unids_int_prob)"
   ]
  },
  {
   "cell_type": "code",
   "execution_count": 103,
   "metadata": {},
   "outputs": [
    {
     "name": "stdout",
     "output_type": "stream",
     "text": [
      "unids_mean [0.29206524 0.04905223 0.14164022 ... 0.14905098 0.11964097 0.1558096 ] unids std [0.25423564 0.10801409 0.19979314 ... 0.20622567 0.11290162 0.21366091]\n",
      "(1125,)\n"
     ]
    }
   ],
   "source": [
    "unids_mean=unids_DM_std_proba_N_sample_repeated_kfold[:,1:(N_sample+1)].mean(axis=1)\n",
    "unids_std=unids_DM_std_proba_N_sample_repeated_kfold[:,1:(N_sample+1)].std(axis=1,ddof=1)\n",
    "print('unids_mean', unids_mean, 'unids std',unids_std)\n",
    "print(unids_mean.shape)\n",
    "p_cut=0.90"
   ]
  },
  {
   "cell_type": "code",
   "execution_count": 104,
   "metadata": {},
   "outputs": [
    {
     "data": {
      "text/plain": [
       "Text(0, 0.5, 'count')"
      ]
     },
     "execution_count": 104,
     "metadata": {},
     "output_type": "execute_result"
    },
    {
     "data": {
      "image/png": "[encoded data removed]",
      "text/plain": [
       "<Figure size 432x288 with 1 Axes>"
      ]
     },
     "metadata": {
      "needs_background": "light"
     },
     "output_type": "display_data"
    }
   ],
   "source": [
    "import matplotlib.pyplot as plt\n",
    "\n",
    "bins=[0.0,0.1,0.2,0.3,0.4,0.5,0.6,0.7,0.8,0.9,1.0]\n",
    "\n",
    "fig, axes = plt.subplots(nrows=1, ncols=1)\n",
    "#ax0, ax1, ax2 = axes.flatten()\n",
    "\n",
    "#for i in range(0,len(unids_DM_std_proba_N_sample_repeated_kfold)):\n",
    "counts_all, bins_all, ignored = plt.hist(unids_DM_std_proba_N_sample_repeated_kfold[:,1:(N_sample+1)], bins,histtype='bar', stacked='True', density=False, label='all p hist')\n",
    "plt.axvline(0.50, color='magenta', linestyle=':', linewidth=2)\n",
    "plt.axvline(0.68, color='red', linestyle=':', linewidth=2)\n",
    "plt.axvline(0.95, color='blue', linestyle='--', linewidth=2)\n",
    "plt.axvline(0.99, color='black', linestyle='-', linewidth=2)\n",
    "#plt.axvline(value_unID, color='k', linestyle='-', linewidth=1)\n",
    "#plt.axvline(unids_std.all(), color='green', linestyle='-', linewidth=1)\n",
    "#plt.axvline(unids_std.all(), color='green', linestyle='--', linewidth=1)\n",
    "\n",
    "plt.xlabel(r' $p_k(DM)$',size=20)\n",
    "plt.ylabel('count',size=20)\n",
    "\n",
    "\n",
    "#fig.savefig(\"full_histo_4F.pdf\", bbox_inches='tight')\n"
   ]
  },
  {
   "cell_type": "code",
   "execution_count": 106,
   "metadata": {},
   "outputs": [
    {
     "name": "stdout",
     "output_type": "stream",
     "text": [
      "(1125, 5)\n",
      "1125\n",
      "(1125, 5)\n",
      "[['midnightblue' 'midnightblue' 'midnightblue' 'midnightblue'\n",
      "  'midnightblue']\n",
      " ['midnightblue' 'midnightblue' 'midnightblue' 'midnightblue'\n",
      "  'midnightblue']\n",
      " ['midnightblue' 'midnightblue' 'midnightblue' 'midnightblue'\n",
      "  'midnightblue']\n",
      " ...\n",
      " ['midnightblue' 'midnightblue' 'midnightblue' 'midnightblue'\n",
      "  'midnightblue']\n",
      " ['midnightblue' 'midnightblue' 'midnightblue' 'midnightblue'\n",
      "  'midnightblue']\n",
      " ['midnightblue' 'midnightblue' 'midnightblue' 'midnightblue'\n",
      "  'midnightblue']]\n"
     ]
    }
   ],
   "source": [
    "all_color=np.asarray(unids_DM_std_proba_N_sample_repeated_kfold[:,1:(N_sample+1)],dtype='str')\n",
    "\n",
    "print(all_color.shape)\n",
    "\n",
    "for i in range(0,len(unids_DM_std_proba_N_sample_repeated_kfold[:,1:(N_sample+1)])):\n",
    "    for j in range(0,N_sample):\n",
    "        all_color[i,j]='midnightblue'\n",
    "\n",
    "print(len(unids_log))    \n",
    "print(all_color.shape)\n",
    "print(all_color)"
   ]
  },
  {
   "cell_type": "code",
   "execution_count": 107,
   "metadata": {},
   "outputs": [
    {
     "data": {
      "text/plain": [
       "Text(0.31622776601683794, 1, ' $NN, 4F$')"
      ]
     },
     "execution_count": 107,
     "metadata": {},
     "output_type": "execute_result"
    },
    {
     "data": {
      "image/png": "[encoded data removed]",
      "text/plain": [
       "<Figure size 432x288 with 1 Axes>"
      ]
     },
     "metadata": {
      "needs_background": "light"
     },
     "output_type": "display_data"
    }
   ],
   "source": [
    "import matplotlib.pyplot as plt\n",
    "\n",
    "bins=[0.0,0.1,0.2,0.3,0.4,0.5,0.6,0.7,0.8,0.9,1.0]\n",
    "\n",
    "fig, axes = plt.subplots(nrows=1, ncols=1)\n",
    "#ax0, ax1, ax2 = axes.flatten()\n",
    "\n",
    "counts_all, bins_all, ignored = plt.hist(unids_DM_std_proba_N_sample_repeated_kfold[:,1:(N_sample+1)], \n",
    "                                         bins, histtype='barstacked',density=False, color=all_color[i,:])\n",
    "plt.axvline(0.50, color='magenta', linestyle=':', linewidth=1)\n",
    "plt.axvline(0.68, color='red', linestyle='-.', linewidth=1)\n",
    "plt.axvline(0.90, color='blue', linestyle='--', linewidth=1)\n",
    "plt.axvline(0.95, color='black', linestyle='--', linewidth=1)\n",
    "plt.axvline(0.99, color='gray', linestyle='--', linewidth=1)\n",
    "#plt.axvline(value_unID, color='k', linestyle='-', linewidth=1)\n",
    "#plt.axvline(unids_std.all(), color='green', linestyle='-', linewidth=1)\n",
    "#plt.axvline(unids_std.all(), color='green', linestyle='--', linewidth=1)\n",
    "\n",
    "plt.xlabel(r' $p_k^{DM}$',size=15)\n",
    "plt.ylabel('count',size=15)\n",
    "plt.title(r' $NN, 4F$', y=10**(0), x=10**(-0.5), pad=-30)\n",
    "\n",
    "#fig.savefig(\"full_histo_4F_single_count.pdf\", bbox_inches='tight')\n"
   ]
  },
  {
   "cell_type": "code",
   "execution_count": null,
   "metadata": {},
   "outputs": [],
   "source": []
  },
  {
   "cell_type": "code",
   "execution_count": null,
   "metadata": {},
   "outputs": [],
   "source": []
  }
 ],
 "metadata": {
  "kernelspec": {
   "display_name": "Python 3 (ipykernel)",
   "language": "python",
   "name": "python3"
  },
  "language_info": {
   "codemirror_mode": {
    "name": "ipython",
    "version": 3
   },
   "file_extension": ".py",
   "mimetype": "text/x-python",
   "name": "python",
   "nbconvert_exporter": "python",
   "pygments_lexer": "ipython3",
   "version": "3.11.6"
  }
 },
 "nbformat": 4,
 "nbformat_minor": 4
}
