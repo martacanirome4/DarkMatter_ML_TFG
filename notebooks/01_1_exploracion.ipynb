{
 "cells": [
  {
   "cell_type": "markdown",
   "metadata": {},
   "source": [
    "# Anáisis de las 4 categorías de fuentes"
   ]
  },
  {
   "cell_type": "code",
   "execution_count": 48,
   "metadata": {},
   "outputs": [],
   "source": [
    "%matplotlib inline"
   ]
  },
  {
   "cell_type": "code",
   "execution_count": 49,
   "metadata": {},
   "outputs": [],
   "source": [
    "import pandas as pd"
   ]
  },
  {
   "cell_type": "markdown",
   "metadata": {},
   "source": [
    "## 4FGL Log(parabola) UnIDs With Name"
   ]
  },
  {
   "cell_type": "code",
   "execution_count": 50,
   "metadata": {},
   "outputs": [],
   "source": [
    "# Ruta del archivo\n",
    "file_path = \"../data/raw/4FGL_catalog_logparabola_unids_with_name.txt\"\n",
    "\n",
    "# Cargar el archivo omitiendo la primera fila incorrecta\n",
    "df = pd.read_csv(file_path, sep='\\s+', skiprows=1)\n"
   ]
  },
  {
   "cell_type": "code",
   "execution_count": 51,
   "metadata": {},
   "outputs": [
    {
     "name": "stdout",
     "output_type": "stream",
     "text": [
      "Beta           float64\n",
      "Beta_err       float64\n",
      "E_peak[GeV]    float64\n",
      "det_sig        float64\n",
      "curv_sig       float64\n",
      "source_name     object\n",
      "dtype: object\n"
     ]
    }
   ],
   "source": [
    "# Convertir columnas numéricas\n",
    "num_cols = [\"Beta\", \"Beta_err\", \"E_peak[GeV]\", \"det_sig\", \"curv_sig\"]\n",
    "df[num_cols] = df[num_cols].apply(pd.to_numeric, errors='coerce')\n",
    "\n",
    "print(df.dtypes)  # Verificar cambios"
   ]
  },
  {
   "cell_type": "code",
   "execution_count": 52,
   "metadata": {},
   "outputs": [],
   "source": [
    "df.to_csv(\"../data/processed/4FGL_catalog_clean.csv\", index=False)"
   ]
  },
  {
   "cell_type": "code",
   "execution_count": 53,
   "metadata": {},
   "outputs": [
    {
     "name": "stdout",
     "output_type": "stream",
     "text": [
      "Primeras filas del archivo:\n"
     ]
    },
    {
     "data": {
      "application/vnd.microsoft.datawrangler.viewer.v0+json": {
       "columns": [
        {
         "name": "index",
         "rawType": "int64",
         "type": "integer"
        },
        {
         "name": "Beta",
         "rawType": "float64",
         "type": "float"
        },
        {
         "name": "Beta_err",
         "rawType": "float64",
         "type": "float"
        },
        {
         "name": "E_peak[GeV]",
         "rawType": "float64",
         "type": "float"
        },
        {
         "name": "det_sig",
         "rawType": "float64",
         "type": "float"
        },
        {
         "name": "curv_sig",
         "rawType": "float64",
         "type": "float"
        },
        {
         "name": "source_name",
         "rawType": "object",
         "type": "string"
        }
       ],
       "conversionMethod": "pd.DataFrame",
       "ref": "f19e183e-3717-49ef-987e-b1e6023ba15f",
       "rows": [
        [
         "0",
         "0.0897",
         "0.1463",
         "2.5129",
         "7.3996",
         "0.621",
         "J0000.3-7355"
        ],
        [
         "1",
         "0.4163",
         "0.3209",
         "1.4782",
         "5.415",
         "2.151",
         "J0003.3+2511"
        ],
        [
         "2",
         "0.6783",
         "0.2518",
         "1.5964",
         "10.7909",
         "4.497",
         "J0003.6+3059"
        ],
        [
         "3",
         "0.2771",
         "0.1742",
         "0.93095",
         "7.6056",
         "2.323",
         "J0004.0+5715"
        ],
        [
         "4",
         "-0.027",
         "0.0687",
         "3978.0",
         "6.4159",
         "0.357",
         "J0004.4-4001"
        ]
       ],
       "shape": {
        "columns": 6,
        "rows": 5
       }
      },
      "text/html": [
       "<div>\n",
       "<style scoped>\n",
       "    .dataframe tbody tr th:only-of-type {\n",
       "        vertical-align: middle;\n",
       "    }\n",
       "\n",
       "    .dataframe tbody tr th {\n",
       "        vertical-align: top;\n",
       "    }\n",
       "\n",
       "    .dataframe thead th {\n",
       "        text-align: right;\n",
       "    }\n",
       "</style>\n",
       "<table border=\"1\" class=\"dataframe\">\n",
       "  <thead>\n",
       "    <tr style=\"text-align: right;\">\n",
       "      <th></th>\n",
       "      <th>Beta</th>\n",
       "      <th>Beta_err</th>\n",
       "      <th>E_peak[GeV]</th>\n",
       "      <th>det_sig</th>\n",
       "      <th>curv_sig</th>\n",
       "      <th>source_name</th>\n",
       "    </tr>\n",
       "  </thead>\n",
       "  <tbody>\n",
       "    <tr>\n",
       "      <th>0</th>\n",
       "      <td>0.0897</td>\n",
       "      <td>0.1463</td>\n",
       "      <td>2.51290</td>\n",
       "      <td>7.3996</td>\n",
       "      <td>0.621</td>\n",
       "      <td>J0000.3-7355</td>\n",
       "    </tr>\n",
       "    <tr>\n",
       "      <th>1</th>\n",
       "      <td>0.4163</td>\n",
       "      <td>0.3209</td>\n",
       "      <td>1.47820</td>\n",
       "      <td>5.4150</td>\n",
       "      <td>2.151</td>\n",
       "      <td>J0003.3+2511</td>\n",
       "    </tr>\n",
       "    <tr>\n",
       "      <th>2</th>\n",
       "      <td>0.6783</td>\n",
       "      <td>0.2518</td>\n",
       "      <td>1.59640</td>\n",
       "      <td>10.7909</td>\n",
       "      <td>4.497</td>\n",
       "      <td>J0003.6+3059</td>\n",
       "    </tr>\n",
       "    <tr>\n",
       "      <th>3</th>\n",
       "      <td>0.2771</td>\n",
       "      <td>0.1742</td>\n",
       "      <td>0.93095</td>\n",
       "      <td>7.6056</td>\n",
       "      <td>2.323</td>\n",
       "      <td>J0004.0+5715</td>\n",
       "    </tr>\n",
       "    <tr>\n",
       "      <th>4</th>\n",
       "      <td>-0.0270</td>\n",
       "      <td>0.0687</td>\n",
       "      <td>3978.00000</td>\n",
       "      <td>6.4159</td>\n",
       "      <td>0.357</td>\n",
       "      <td>J0004.4-4001</td>\n",
       "    </tr>\n",
       "  </tbody>\n",
       "</table>\n",
       "</div>"
      ],
      "text/plain": [
       "     Beta  Beta_err  E_peak[GeV]  det_sig  curv_sig   source_name\n",
       "0  0.0897    0.1463      2.51290   7.3996     0.621  J0000.3-7355\n",
       "1  0.4163    0.3209      1.47820   5.4150     2.151  J0003.3+2511\n",
       "2  0.6783    0.2518      1.59640  10.7909     4.497  J0003.6+3059\n",
       "3  0.2771    0.1742      0.93095   7.6056     2.323  J0004.0+5715\n",
       "4 -0.0270    0.0687   3978.00000   6.4159     0.357  J0004.4-4001"
      ]
     },
     "execution_count": 53,
     "metadata": {},
     "output_type": "execute_result"
    }
   ],
   "source": [
    "print('Primeras filas del archivo:')\n",
    "df.head()"
   ]
  },
  {
   "cell_type": "code",
   "execution_count": 54,
   "metadata": {},
   "outputs": [
    {
     "name": "stdout",
     "output_type": "stream",
     "text": [
      "\n",
      "Estadísticas del archivo:\n"
     ]
    },
    {
     "name": "stderr",
     "output_type": "stream",
     "text": [
      "/Users/martacaninoromero/.pyenv/versions/3.11.6/lib/python3.11/site-packages/pandas/core/nanops.py:1016: RuntimeWarning: invalid value encountered in subtract\n",
      "  sqr = _ensure_numeric((avg - values) ** 2)\n"
     ]
    },
    {
     "data": {
      "application/vnd.microsoft.datawrangler.viewer.v0+json": {
       "columns": [
        {
         "name": "index",
         "rawType": "object",
         "type": "string"
        },
        {
         "name": "Beta",
         "rawType": "float64",
         "type": "float"
        },
        {
         "name": "Beta_err",
         "rawType": "float64",
         "type": "float"
        },
        {
         "name": "E_peak[GeV]",
         "rawType": "float64",
         "type": "float"
        },
        {
         "name": "det_sig",
         "rawType": "float64",
         "type": "float"
        },
        {
         "name": "curv_sig",
         "rawType": "float64",
         "type": "float"
        }
       ],
       "conversionMethod": "pd.DataFrame",
       "ref": "54a82cbf-43eb-48c2-8637-ef6bf591ab70",
       "rows": [
        [
         "count",
         "1323.0",
         "1260.0",
         "1323.0",
         "1323.0",
         "1323.0"
        ],
        [
         "mean",
         "0.3388952380952381",
         "0.17492317460317458",
         "inf",
         "8.008369841269843",
         "2.8602811791383216"
        ],
        [
         "std",
         "0.28789102383303106",
         "0.20345366891700817",
         null,
         "5.309629742044128",
         "2.0864707147286037"
        ],
        [
         "min",
         "-0.1444",
         "0.0009",
         "0.0",
         "4.0556",
         "0.0"
        ],
        [
         "25%",
         "0.11445",
         "0.089575",
         "0.41513500000000003",
         "5.06475",
         "1.2694999999999999"
        ],
        [
         "50%",
         "0.2857",
         "0.13324999999999998",
         "0.93095",
         "6.3117",
         "2.526"
        ],
        [
         "75%",
         "0.50745",
         "0.21065",
         "2.3341000000000003",
         "8.780100000000001",
         "3.987"
        ],
        [
         "max",
         "1.0",
         "4.2574",
         "inf",
         "50.3083",
         "14.871"
        ]
       ],
       "shape": {
        "columns": 5,
        "rows": 8
       }
      },
      "text/html": [
       "<div>\n",
       "<style scoped>\n",
       "    .dataframe tbody tr th:only-of-type {\n",
       "        vertical-align: middle;\n",
       "    }\n",
       "\n",
       "    .dataframe tbody tr th {\n",
       "        vertical-align: top;\n",
       "    }\n",
       "\n",
       "    .dataframe thead th {\n",
       "        text-align: right;\n",
       "    }\n",
       "</style>\n",
       "<table border=\"1\" class=\"dataframe\">\n",
       "  <thead>\n",
       "    <tr style=\"text-align: right;\">\n",
       "      <th></th>\n",
       "      <th>Beta</th>\n",
       "      <th>Beta_err</th>\n",
       "      <th>E_peak[GeV]</th>\n",
       "      <th>det_sig</th>\n",
       "      <th>curv_sig</th>\n",
       "    </tr>\n",
       "  </thead>\n",
       "  <tbody>\n",
       "    <tr>\n",
       "      <th>count</th>\n",
       "      <td>1323.000000</td>\n",
       "      <td>1260.000000</td>\n",
       "      <td>1323.000000</td>\n",
       "      <td>1323.00000</td>\n",
       "      <td>1323.000000</td>\n",
       "    </tr>\n",
       "    <tr>\n",
       "      <th>mean</th>\n",
       "      <td>0.338895</td>\n",
       "      <td>0.174923</td>\n",
       "      <td>inf</td>\n",
       "      <td>8.00837</td>\n",
       "      <td>2.860281</td>\n",
       "    </tr>\n",
       "    <tr>\n",
       "      <th>std</th>\n",
       "      <td>0.287891</td>\n",
       "      <td>0.203454</td>\n",
       "      <td>NaN</td>\n",
       "      <td>5.30963</td>\n",
       "      <td>2.086471</td>\n",
       "    </tr>\n",
       "    <tr>\n",
       "      <th>min</th>\n",
       "      <td>-0.144400</td>\n",
       "      <td>0.000900</td>\n",
       "      <td>0.000000</td>\n",
       "      <td>4.05560</td>\n",
       "      <td>0.000000</td>\n",
       "    </tr>\n",
       "    <tr>\n",
       "      <th>25%</th>\n",
       "      <td>0.114450</td>\n",
       "      <td>0.089575</td>\n",
       "      <td>0.415135</td>\n",
       "      <td>5.06475</td>\n",
       "      <td>1.269500</td>\n",
       "    </tr>\n",
       "    <tr>\n",
       "      <th>50%</th>\n",
       "      <td>0.285700</td>\n",
       "      <td>0.133250</td>\n",
       "      <td>0.930950</td>\n",
       "      <td>6.31170</td>\n",
       "      <td>2.526000</td>\n",
       "    </tr>\n",
       "    <tr>\n",
       "      <th>75%</th>\n",
       "      <td>0.507450</td>\n",
       "      <td>0.210650</td>\n",
       "      <td>2.334100</td>\n",
       "      <td>8.78010</td>\n",
       "      <td>3.987000</td>\n",
       "    </tr>\n",
       "    <tr>\n",
       "      <th>max</th>\n",
       "      <td>1.000000</td>\n",
       "      <td>4.257400</td>\n",
       "      <td>inf</td>\n",
       "      <td>50.30830</td>\n",
       "      <td>14.871000</td>\n",
       "    </tr>\n",
       "  </tbody>\n",
       "</table>\n",
       "</div>"
      ],
      "text/plain": [
       "              Beta     Beta_err  E_peak[GeV]     det_sig     curv_sig\n",
       "count  1323.000000  1260.000000  1323.000000  1323.00000  1323.000000\n",
       "mean      0.338895     0.174923          inf     8.00837     2.860281\n",
       "std       0.287891     0.203454          NaN     5.30963     2.086471\n",
       "min      -0.144400     0.000900     0.000000     4.05560     0.000000\n",
       "25%       0.114450     0.089575     0.415135     5.06475     1.269500\n",
       "50%       0.285700     0.133250     0.930950     6.31170     2.526000\n",
       "75%       0.507450     0.210650     2.334100     8.78010     3.987000\n",
       "max       1.000000     4.257400          inf    50.30830    14.871000"
      ]
     },
     "execution_count": 54,
     "metadata": {},
     "output_type": "execute_result"
    }
   ],
   "source": [
    "print('\\nEstadísticas del archivo:')\n",
    "df.describe()"
   ]
  }
 ],
 "metadata": {
  "kernelspec": {
   "display_name": "3.11.6",
   "language": "python",
   "name": "python3"
  },
  "language_info": {
   "codemirror_mode": {
    "name": "ipython",
    "version": 3
   },
   "file_extension": ".py",
   "mimetype": "text/x-python",
   "name": "python",
   "nbconvert_exporter": "python",
   "pygments_lexer": "ipython3",
   "version": "3.11.6"
  }
 },
 "nbformat": 4,
 "nbformat_minor": 2
}
