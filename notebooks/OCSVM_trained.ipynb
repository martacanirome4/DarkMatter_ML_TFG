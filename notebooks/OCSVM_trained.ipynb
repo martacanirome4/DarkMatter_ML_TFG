{
 "cells": [
  {
   "cell_type": "markdown",
   "metadata": {},
   "source": [
    "# 🔭 OneClassSVM - Train ASTRO + Test UNIDs"
   ]
  },
  {
   "cell_type": "code",
   "execution_count": 19,
   "metadata": {},
   "outputs": [],
   "source": [
    "import numpy as np\n",
    "import pandas as pd\n",
    "import matplotlib.pyplot as plt\n",
    "import seaborn as sns\n",
    "from sklearn.svm import OneClassSVM\n",
    "from sklearn.model_selection import train_test_split\n",
    "from sklearn.preprocessing import StandardScaler"
   ]
  },
  {
   "cell_type": "code",
   "execution_count": 20,
   "metadata": {},
   "outputs": [
    {
     "name": "stdout",
     "output_type": "stream",
     "text": [
      "Index(['E_peak', 'beta', 'sigma', 'beta_Rel', 'class'], dtype='object')\n"
     ]
    },
    {
     "data": {
      "application/vnd.microsoft.datawrangler.viewer.v0+json": {
       "columns": [
        {
         "name": "index",
         "rawType": "int64",
         "type": "integer"
        },
        {
         "name": "E_peak",
         "rawType": "float64",
         "type": "float"
        },
        {
         "name": "beta",
         "rawType": "float64",
         "type": "float"
        },
        {
         "name": "sigma",
         "rawType": "float64",
         "type": "float"
        },
        {
         "name": "beta_Rel",
         "rawType": "float64",
         "type": "float"
        },
        {
         "name": "class",
         "rawType": "float64",
         "type": "float"
        }
       ],
       "conversionMethod": "pd.DataFrame",
       "ref": "6f2cbb3c-2f3b-4f04-913d-babdc603d75f",
       "rows": [
        [
         "0",
         "-0.4125023068520127",
         "-1.3251388592621884",
         "1.3569508561312753",
         "-0.1221929246256183",
         "0.0"
        ],
        [
         "1",
         "0.7081403453880487",
         "-0.0001737525455875",
         "0.6231665597600842",
         "-1.601886238782375",
         "0.0"
        ],
        [
         "2",
         "0.2247401900605439",
         "-0.5812017094096464",
         "1.0100411689718056",
         "-0.3112491608456672",
         "0.0"
        ],
        [
         "3",
         "0.2573185130976385",
         "-0.5619325495465062",
         "0.615413424407249",
         "-0.0389131164952773",
         "0.0"
        ],
        [
         "4",
         "0.3261104609708298",
         "-1.1001794975729038",
         "1.6249315044125772",
         "-0.5287526401553599",
         "0.0"
        ]
       ],
       "shape": {
        "columns": 5,
        "rows": 5
       }
      },
      "text/html": [
       "<div>\n",
       "<style scoped>\n",
       "    .dataframe tbody tr th:only-of-type {\n",
       "        vertical-align: middle;\n",
       "    }\n",
       "\n",
       "    .dataframe tbody tr th {\n",
       "        vertical-align: top;\n",
       "    }\n",
       "\n",
       "    .dataframe thead th {\n",
       "        text-align: right;\n",
       "    }\n",
       "</style>\n",
       "<table border=\"1\" class=\"dataframe\">\n",
       "  <thead>\n",
       "    <tr style=\"text-align: right;\">\n",
       "      <th></th>\n",
       "      <th>E_peak</th>\n",
       "      <th>beta</th>\n",
       "      <th>sigma</th>\n",
       "      <th>beta_Rel</th>\n",
       "      <th>class</th>\n",
       "    </tr>\n",
       "  </thead>\n",
       "  <tbody>\n",
       "    <tr>\n",
       "      <th>0</th>\n",
       "      <td>-0.412502</td>\n",
       "      <td>-1.325139</td>\n",
       "      <td>1.356951</td>\n",
       "      <td>-0.122193</td>\n",
       "      <td>0.0</td>\n",
       "    </tr>\n",
       "    <tr>\n",
       "      <th>1</th>\n",
       "      <td>0.708140</td>\n",
       "      <td>-0.000174</td>\n",
       "      <td>0.623167</td>\n",
       "      <td>-1.601886</td>\n",
       "      <td>0.0</td>\n",
       "    </tr>\n",
       "    <tr>\n",
       "      <th>2</th>\n",
       "      <td>0.224740</td>\n",
       "      <td>-0.581202</td>\n",
       "      <td>1.010041</td>\n",
       "      <td>-0.311249</td>\n",
       "      <td>0.0</td>\n",
       "    </tr>\n",
       "    <tr>\n",
       "      <th>3</th>\n",
       "      <td>0.257319</td>\n",
       "      <td>-0.561933</td>\n",
       "      <td>0.615413</td>\n",
       "      <td>-0.038913</td>\n",
       "      <td>0.0</td>\n",
       "    </tr>\n",
       "    <tr>\n",
       "      <th>4</th>\n",
       "      <td>0.326110</td>\n",
       "      <td>-1.100179</td>\n",
       "      <td>1.624932</td>\n",
       "      <td>-0.528753</td>\n",
       "      <td>0.0</td>\n",
       "    </tr>\n",
       "  </tbody>\n",
       "</table>\n",
       "</div>"
      ],
      "text/plain": [
       "     E_peak      beta     sigma  beta_Rel  class\n",
       "0 -0.412502 -1.325139  1.356951 -0.122193    0.0\n",
       "1  0.708140 -0.000174  0.623167 -1.601886    0.0\n",
       "2  0.224740 -0.581202  1.010041 -0.311249    0.0\n",
       "3  0.257319 -0.561933  0.615413 -0.038913    0.0\n",
       "4  0.326110 -1.100179  1.624932 -0.528753    0.0"
      ]
     },
     "execution_count": 20,
     "metadata": {},
     "output_type": "execute_result"
    }
   ],
   "source": [
    "# Load dataset\n",
    "data_path = \"../data/processed/XY_bal_log_Rel/astro/XY_bal_log_Rel_astro.txt\"\n",
    "df_astro = pd.read_csv(data_path, sep='\\s+')\n",
    "\n",
    "df_astro = df_astro.rename(columns={\"0,1=astro,DM\": \"class\"})\n",
    "print(df_astro.columns)\n",
    "\n",
    "df_astro.head()"
   ]
  },
  {
   "cell_type": "code",
   "execution_count": 21,
   "metadata": {},
   "outputs": [],
   "source": [
    "X = df_astro[[\"beta\", \"E_peak\"]].values\n",
    "y = df_astro[\"class\"].values\n",
    "\n",
    "# === 2. SPLIT: Train / Val / Test ===\n",
    "X_train, X_temp = train_test_split(X, test_size=0.4, random_state=42)\n",
    "X_val, X_test = train_test_split(X_temp, test_size=0.5, random_state=42)\n",
    "\n",
    "# === 3. SCALE THE DATA ===\n",
    "scaler = StandardScaler()\n",
    "X_train_scaled = scaler.fit_transform(X_train)\n",
    "X_val_scaled = scaler.transform(X_val)\n",
    "X_test_scaled = scaler.transform(X_test)\n"
   ]
  },
  {
   "cell_type": "code",
   "execution_count": 22,
   "metadata": {},
   "outputs": [
    {
     "name": "stdout",
     "output_type": "stream",
     "text": [
      "✅ Best Parameters: nu = 0.005, gamma = 0.1\n",
      "🚨 Outliers on Validation Set: 4\n"
     ]
    }
   ],
   "source": [
    "# Define hyperparameter ranges\n",
    "nu_values = [0.005, 0.01, 0.02, 0.05]\n",
    "gamma_values = ['scale', 'auto'] + list(np.logspace(-3, 1, 5))  # 0.001 to 10\n",
    "\n",
    "# Track results\n",
    "results = []\n",
    "best_score = np.inf\n",
    "best_model = None\n",
    "best_params = {}\n",
    "\n",
    "for nu in nu_values:\n",
    "    for gamma in gamma_values:\n",
    "        model = OneClassSVM(kernel='rbf', nu=nu, gamma=gamma)\n",
    "        model.fit(X_train_scaled)\n",
    "        \n",
    "        # Predict on validation set\n",
    "        preds = model.predict(X_val_scaled)\n",
    "        n_outliers = np.sum(preds == -1)  # -1 means \"anomaly\"\n",
    "        \n",
    "        results.append({'nu': nu, 'gamma': gamma, 'outliers': n_outliers})\n",
    "        \n",
    "        if n_outliers < best_score:\n",
    "            best_score = n_outliers\n",
    "            best_model = model\n",
    "            best_params = {'nu': nu, 'gamma': gamma}\n",
    "\n",
    "# Show best hyperparameters\n",
    "print(f\"✅ Best Parameters: nu = {best_params['nu']}, gamma = {best_params['gamma']}\")\n",
    "print(f\"🚨 Outliers on Validation Set: {best_score}\")\n"
   ]
  },
  {
   "cell_type": "code",
   "execution_count": 23,
   "metadata": {},
   "outputs": [
    {
     "data": {
      "image/png": "[encoded data removed]",
      "text/plain": [
       "<Figure size 1000x600 with 2 Axes>"
      ]
     },
     "metadata": {},
     "output_type": "display_data"
    }
   ],
   "source": [
    "df_results = pd.DataFrame(results)\n",
    "df_results['gamma_str'] = df_results['gamma'].astype(str)\n",
    "heatmap_data = df_results.pivot(index='nu', columns='gamma_str', values='outliers')\n",
    "\n",
    "plt.figure(figsize=(10, 6))\n",
    "sns.heatmap(heatmap_data, annot=True, fmt='d', cmap='coolwarm')\n",
    "plt.title(\"Outliers on Validation Set\")\n",
    "plt.xlabel(\"Gamma\")\n",
    "plt.ylabel(\"Nu\")\n",
    "plt.tight_layout()\n",
    "plt.show()\n"
   ]
  },
  {
   "cell_type": "code",
   "execution_count": 24,
   "metadata": {},
   "outputs": [
    {
     "name": "stdout",
     "output_type": "stream",
     "text": [
      "🔍 Outliers on Final Test Set: 6\n"
     ]
    }
   ],
   "source": [
    "# Evaluate on the test set\n",
    "test_preds = best_model.predict(X_test_scaled)\n",
    "n_test_outliers = np.sum(test_preds == -1)\n",
    "\n",
    "print(f\"🔍 Outliers on Final Test Set: {n_test_outliers}\")"
   ]
  },
  {
   "cell_type": "code",
   "execution_count": null,
   "metadata": {},
   "outputs": [],
   "source": [
    "# Create meshgrid (with correct feature order: [beta, E_peak])\n",
    "xx, yy = np.meshgrid(\n",
    "    np.linspace(X_train_scaled[:, 1].min() - 0.5, X_train_scaled[:, 1].max() + 0.5, 300),  # E_peak\n",
    "    np.linspace(X_train_scaled[:, 0].min() - 0.5, X_train_scaled[:, 0].max() + 0.5, 300)   # beta\n",
    ")\n",
    "\n",
    "grid = np.c_[yy.ravel(), xx.ravel()]\n",
    "Z = best_model.decision_function(grid)\n",
    "Z = Z.reshape(xx.shape)\n",
    "\n",
    "plt.figure(figsize=(10, 8))\n",
    "plt.contourf(xx, yy, Z, levels=np.linspace(Z.min(), 0, 7), cmap=plt.cm.PuBu_r, alpha=0.8)\n",
    "plt.contour(xx, yy, Z, levels=[0], linewidths=2, colors='crimson', linestyles='--')\n",
    "\n",
    "# Plot training and test data\n",
    "plt.scatter(X_train_scaled[:, 1], X_train_scaled[:, 0], c='skyblue', edgecolors='k', s=40, label='Train')\n",
    "plt.scatter(X_test_scaled[:, 1], X_test_scaled[:, 0], c='orchid', edgecolors='k', s=40, label='Test')\n",
    "\n",
    "plt.xlabel(\"E_peak (scaled)\")\n",
    "plt.ylabel(\"beta (scaled)\")\n",
    "plt.title(\"Best One-Class SVM Decision Boundary\")\n",
    "plt.legend()\n",
    "plt.grid(True)\n",
    "plt.tight_layout()\n",
    "plt.show()\n"
   ]
  }
 ],
 "metadata": {
  "kernelspec": {
   "display_name": "3.11.6",
   "language": "python",
   "name": "python3"
  },
  "language_info": {
   "codemirror_mode": {
    "name": "ipython",
    "version": 3
   },
   "file_extension": ".py",
   "mimetype": "text/x-python",
   "name": "python",
   "nbconvert_exporter": "python",
   "pygments_lexer": "ipython3",
   "version": "3.11.6"
  }
 },
 "nbformat": 4,
 "nbformat_minor": 2
}
