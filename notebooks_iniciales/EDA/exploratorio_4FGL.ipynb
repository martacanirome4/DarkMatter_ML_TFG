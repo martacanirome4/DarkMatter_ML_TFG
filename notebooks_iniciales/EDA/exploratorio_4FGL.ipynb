{
 "cells": [
  {
   "cell_type": "markdown",
   "metadata": {},
   "source": [
    "# 📊 Exploración y Preprocesamiento de Datos"
   ]
  },
  {
   "cell_type": "markdown",
   "metadata": {},
   "source": [
    "## Cargar y visualizar los datos"
   ]
  },
  {
   "cell_type": "code",
   "execution_count": null,
   "metadata": {},
   "outputs": [],
   "source": [
    "import pandas as pd\n",
    "import matplotlib.pyplot as plt\n",
    "import seaborn as sns\n",
    "\n",
    "# Cargar datos\n",
    "blazars = pd.read_csv('../../data/raw/4FGL_catalog/4FGL_catalog_logparabola_blazars_with_name.txt', delimiter='\\t')\n",
    "fsrq = pd.read_csv('../../data/raw/4FGL_catalog/4FGL_catalog_logparabola_fsrq_with_name.txt', delimiter='\\t')\n",
    "psr = pd.read_csv('../../data/raw/4FGL_catalog/4FGL_catalog_logparabola_psr_with_name.txt', delimiter='\\t')\n",
    "unids = pd.read_csv('../../data/raw/4FGL_catalog/4FGL_catalog_logparabola_unids_with_name.txt', delimiter='\\t')\n",
    "dm = pd.read_csv('../../data/raw/4FGL_catalog/DM_logparabola_random_points_with_signif.txt', delimiter='\\t')"
   ]
  },
  {
   "cell_type": "markdown",
   "metadata": {},
   "source": [
    "## Blázaress (Clase 1)"
   ]
  },
  {
   "cell_type": "code",
   "execution_count": null,
   "metadata": {},
   "outputs": [],
   "source": [
    "print('Primeras filas del archivo de blazars (Clase 1):')\n",
    "blazars.head()"
   ]
  },
  {
   "cell_type": "code",
   "execution_count": null,
   "metadata": {},
   "outputs": [],
   "source": [
    "# Ver información general\n",
    "blazars.info()"
   ]
  },
  {
   "cell_type": "markdown",
   "metadata": {},
   "source": [
    "## "
   ]
  },
  {
   "cell_type": "code",
   "execution_count": null,
   "metadata": {},
   "outputs": [],
   "source": [
    "print('Primeras filas del archivo de frsrq (Clase 2):')\n",
    "fsrq.head()"
   ]
  },
  {
   "cell_type": "code",
   "execution_count": null,
   "metadata": {},
   "outputs": [],
   "source": [
    "fsrq.info()"
   ]
  },
  {
   "cell_type": "markdown",
   "metadata": {},
   "source": [
    "## Púlsares (Clase 3)"
   ]
  },
  {
   "cell_type": "code",
   "execution_count": null,
   "metadata": {},
   "outputs": [],
   "source": [
    "print('Primeras filas del archivo de púlsares (Clase 3):')\n",
    "psr.head()"
   ]
  },
  {
   "cell_type": "code",
   "execution_count": null,
   "metadata": {},
   "outputs": [],
   "source": [
    "psr.info()"
   ]
  },
  {
   "cell_type": "markdown",
   "metadata": {},
   "source": [
    "## UnIDs"
   ]
  },
  {
   "cell_type": "code",
   "execution_count": null,
   "metadata": {},
   "outputs": [],
   "source": [
    "print('Primeras filas del archivo de unIDs (Clase 4):')\n",
    "unids.head()"
   ]
  },
  {
   "cell_type": "code",
   "execution_count": null,
   "metadata": {},
   "outputs": [],
   "source": [
    "unids.info()"
   ]
  },
  {
   "cell_type": "markdown",
   "metadata": {},
   "source": [
    "# 📈 Análisis y Visualización de Datos"
   ]
  },
  {
   "cell_type": "markdown",
   "metadata": {},
   "source": [
    "## 📊 Histogramas de las características\n"
   ]
  },
  {
   "cell_type": "code",
   "execution_count": null,
   "metadata": {},
   "outputs": [],
   "source": [
    "features = ['E_peak', 'beta', 'sigma_d', 'beta_rel']\n",
    "\n",
    "fig, axes = plt.subplots(2, 2, figsize=(12, 8))\n",
    "for idx, feature in enumerate(features):\n",
    "    sns.histplot(blazars[feature], bins=30, kde=True, ax=axes[idx//2, idx%2], label='Blazars')\n",
    "    sns.histplot(fsrq[feature], bins=30, kde=True, ax=axes[idx//2, idx%2], label='FSRQ', color='red')\n",
    "    sns.histplot(psr[feature], bins=30, kde=True, ax=axes[idx//2, idx%2], label='PSR', color='green')\n",
    "    sns.histplot(unids[feature], bins=30, kde=True, ax=axes[idx//2, idx%2], label='UnIDs', color='purple')\n",
    "    sns.histplot(dm[feature], bins=30, kde=True, ax=axes[idx//2, idx%2], label='DM', color='black')\n",
    "    axes[idx//2, idx%2].set_title(f'Distribución de {feature}')\n",
    "    axes[idx//2, idx%2].legend()\n",
    "\n",
    "plt.tight_layout()\n",
    "plt.show()"
   ]
  }
 ],
 "metadata": {
  "kernelspec": {
   "display_name": "Python (.venv DarkMatter_TFG)",
   "language": "python",
   "name": "venv-tfg"
  },
  "language_info": {
   "codemirror_mode": {
    "name": "ipython",
    "version": 3
   },
   "file_extension": ".py",
   "mimetype": "text/x-python",
   "name": "python",
   "nbconvert_exporter": "python",
   "pygments_lexer": "ipython3",
   "version": "3.9.2"
  }
 },
 "nbformat": 4,
 "nbformat_minor": 2
}
