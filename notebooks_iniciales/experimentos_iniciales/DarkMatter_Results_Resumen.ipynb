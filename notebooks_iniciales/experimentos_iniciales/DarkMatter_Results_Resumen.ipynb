{
 "cells": [
  {
   "cell_type": "markdown",
   "metadata": {},
   "source": [
    "# Resumen de Resultados - Proyecto Dark Matter\n",
    "\n",
    "En este notebook se presentan los resultados más relevantes del modelo de detección de candidatas a materia oscura, obtenidos a partir de la fusión de:\n",
    "- Probabilidad de materia oscura (`prob_ann`) generada por una red neuronal.\n",
    "- Score de anomalía (`anomaly_score_norm`) obtenido mediante One-Class SVM.\n",
    "\n",
    "Se visualizan los Top 5 candidatos, los gráficos principales y el resumen del log de ejecución."
   ]
  },
  {
   "cell_type": "code",
   "execution_count": null,
   "metadata": {},
   "outputs": [],
   "source": [
    "import pandas as pd\n",
    "import os\n",
    "from datetime import datetime\n",
    "import matplotlib.pyplot as plt\n",
    "from IPython.display import Image, display, Markdown\n",
    "import seaborn as sns\n",
    "import numpy as np\n",
    "import matplotlib.dates as mdates"
   ]
  },
  {
   "cell_type": "code",
   "execution_count": null,
   "metadata": {},
   "outputs": [],
   "source": [
    "project_root = os.path.abspath(os.path.join(os.path.dirname(\".\"), '..'))\n",
    "results_dir = os.path.join(project_root, 'outputs', 'results')\n",
    "\n",
    "# Detectar archivos más recientes\n",
    "files = [f for f in os.listdir(results_dir) if f.startswith('unids_combined_ann_ocsvm_') and f.endswith('.csv')]\n",
    "files.sort(key=lambda x: os.path.getmtime(os.path.join(results_dir, x)), reverse=True)\n",
    "latest_csv = files[0]\n",
    "csv_path = os.path.join(results_dir, latest_csv)\n",
    "\n",
    "# Detectar Top 5\n",
    "top5_files = [f for f in os.listdir(results_dir) if f.startswith('top5_unids_ann_ocsvm_')]\n",
    "top5_files.sort(key=lambda x: os.path.getmtime(os.path.join(results_dir, x)), reverse=True)\n",
    "top5_path = os.path.join(results_dir, top5_files[0])\n",
    "\n",
    "# Detectar gráficos\n",
    "scatter_files = [f for f in os.listdir(results_dir) if f.startswith('scatter_ann_vs_anomaly_')]\n",
    "bar_files = [f for f in os.listdir(results_dir) if f.startswith('top10_combined_ann_ocsvm_')]\n",
    "scatter_path = os.path.join(results_dir, sorted(scatter_files, key=lambda x: os.path.getmtime(os.path.join(results_dir, x)), reverse=True)[0])\n",
    "bar_path = os.path.join(results_dir, sorted(bar_files, key=lambda x: os.path.getmtime(os.path.join(results_dir, x)), reverse=True)[0])\n",
    "\n",
    "# Detectar log\n",
    "log_files = [f for f in os.listdir(results_dir) if f.startswith('fuse_ann_ocsvm_log_')]\n",
    "log_files.sort(key=lambda x: os.path.getmtime(os.path.join(results_dir, x)), reverse=True)\n",
    "log_path = os.path.join(results_dir, log_files[0])"
   ]
  },
  {
   "cell_type": "code",
   "execution_count": null,
   "metadata": {},
   "outputs": [],
   "source": [
    "df_top5 = pd.read_csv(top5_path)\n",
    "print(\"Top 5 UNIDs con mayor score combinado:\")\n",
    "df_top5.style.bar(subset=['prob_ann', 'anomaly_score_norm', 'combined_score'], color='red')"
   ]
  },
  {
   "cell_type": "code",
   "execution_count": null,
   "metadata": {},
   "outputs": [],
   "source": [
    "print(\"Scatter Plot: Probabilidad ANN vs Score Anomalía\")\n",
    "display(Image(filename=scatter_path))\n"
   ]
  },
  {
   "cell_type": "code",
   "execution_count": null,
   "metadata": {},
   "outputs": [],
   "source": [
    "print(\"Bar Plot Top 10: Score Combinado\")\n",
    "display(Image(filename=bar_path))"
   ]
  },
  {
   "cell_type": "code",
   "execution_count": null,
   "metadata": {},
   "outputs": [],
   "source": [
    "# === Histograma de Score Combinado ===\n",
    "plt.figure(figsize=(10, 6))\n",
    "plt.hist(df_full['combined_score'], bins=30, edgecolor='black', color='#4daf4a')\n",
    "plt.xlabel('Score Combinado')\n",
    "plt.ylabel('Número de UNIDs')\n",
    "plt.title('Distribución del Score Combinado ANN + OCSVM')\n",
    "plt.tight_layout()\n",
    "plt.show()\n"
   ]
  },
  {
   "cell_type": "code",
   "execution_count": null,
   "metadata": {},
   "outputs": [],
   "source": [
    "print(\"Resumen del Log de Ejecución:\")\n",
    "with open(log_path, 'r') as file:\n",
    "    log_content = file.read()\n",
    "display(Markdown(f'```\\n{log_content}\\n```'))"
   ]
  },
  {
   "cell_type": "code",
   "execution_count": null,
   "metadata": {},
   "outputs": [],
   "source": [
    "# === Resumen Estadístico ===\n",
    "df_full[['prob_ann', 'anomaly_score_norm', 'combined_score']].describe().round(4)\n"
   ]
  },
  {
   "cell_type": "code",
   "execution_count": null,
   "metadata": {},
   "outputs": [],
   "source": [
    "df_full = pd.read_csv(csv_path)\n",
    "df_full.head(10)"
   ]
  },
  {
   "cell_type": "code",
   "execution_count": null,
   "metadata": {},
   "outputs": [],
   "source": [
    "# === Tabla Top 20 UNIDs ===\n",
    "top20 = df_full.sort_values(by='combined_score', ascending=False).head(20).copy()\n",
    "top20.reset_index(drop=True, inplace=True)\n",
    "top20.index += 1  # Ranking 1-20\n",
    "top20.style.bar(subset=['prob_ann', 'anomaly_score_norm', 'combined_score'], color='magenta')\n"
   ]
  },
  {
   "cell_type": "code",
   "execution_count": null,
   "metadata": {},
   "outputs": [],
   "source": [
    "# === Mapa de Calor de Correlación ===\n",
    "import seaborn as sns\n",
    "corr = df_full[['prob_ann', 'anomaly_score_norm', 'combined_score']].corr()\n",
    "plt.figure(figsize=(6, 4))\n",
    "sns.heatmap(corr, annot=True, cmap='coolwarm', fmt='.2f')\n",
    "plt.title('Correlación entre Scores')\n",
    "plt.tight_layout()\n",
    "plt.show()\n"
   ]
  },
  {
   "cell_type": "markdown",
   "metadata": {},
   "source": [
    "¿Qué significa tener un score combinado alto?\n",
    "¿Cuántas fuentes destacan?\n",
    "¿Qué pasos seguirías después?"
   ]
  }
 ],
 "metadata": {
  "kernelspec": {
   "display_name": "3.11.6",
   "language": "python",
   "name": "python3"
  },
  "language_info": {
   "codemirror_mode": {
    "name": "ipython",
    "version": 3
   },
   "file_extension": ".py",
   "mimetype": "text/x-python",
   "name": "python",
   "nbconvert_exporter": "python",
   "pygments_lexer": "ipython3",
   "version": "3.11.6"
  }
 },
 "nbformat": 4,
 "nbformat_minor": 2
}
